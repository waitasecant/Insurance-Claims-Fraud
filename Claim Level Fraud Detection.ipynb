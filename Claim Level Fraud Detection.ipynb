{
 "cells": [
  {
   "cell_type": "code",
   "execution_count": 281,
   "metadata": {},
   "outputs": [],
   "source": [
    "# Importing necessary packages\n",
    "import pandas as pd\n",
    "import numpy as np"
   ]
  },
  {
   "cell_type": "code",
   "execution_count": 358,
   "metadata": {},
   "outputs": [
    {
     "data": {
      "text/html": [
       "<div>\n",
       "<style scoped>\n",
       "    .dataframe tbody tr th:only-of-type {\n",
       "        vertical-align: middle;\n",
       "    }\n",
       "\n",
       "    .dataframe tbody tr th {\n",
       "        vertical-align: top;\n",
       "    }\n",
       "\n",
       "    .dataframe thead th {\n",
       "        text-align: right;\n",
       "    }\n",
       "</style>\n",
       "<table border=\"1\" class=\"dataframe\">\n",
       "  <thead>\n",
       "    <tr style=\"text-align: right;\">\n",
       "      <th></th>\n",
       "      <th>TXN_DATE_TIME</th>\n",
       "      <th>TRANSACTION_ID</th>\n",
       "      <th>CUSTOMER_ID</th>\n",
       "      <th>POLICY_NUMBER</th>\n",
       "      <th>POLICY_EFF_DT</th>\n",
       "      <th>LOSS_DT</th>\n",
       "      <th>REPORT_DT</th>\n",
       "      <th>INSURANCE_TYPE</th>\n",
       "      <th>PREMIUM_AMOUNT</th>\n",
       "      <th>CLAIM_AMOUNT</th>\n",
       "      <th>...</th>\n",
       "      <th>CLAIM_STATUS</th>\n",
       "      <th>INCIDENT_SEVERITY</th>\n",
       "      <th>AUTHORITY_CONTACTED</th>\n",
       "      <th>ANY_INJURY</th>\n",
       "      <th>POLICE_REPORT_AVAILABLE</th>\n",
       "      <th>INCIDENT_STATE</th>\n",
       "      <th>INCIDENT_CITY</th>\n",
       "      <th>INCIDENT_HOUR_OF_THE_DAY</th>\n",
       "      <th>AGENT_ID</th>\n",
       "      <th>VENDOR_ID</th>\n",
       "    </tr>\n",
       "  </thead>\n",
       "  <tbody>\n",
       "    <tr>\n",
       "      <th>0</th>\n",
       "      <td>2020-06-01 00:00:00</td>\n",
       "      <td>TXN00000001</td>\n",
       "      <td>A00003822</td>\n",
       "      <td>PLC00008468</td>\n",
       "      <td>2015-06-23</td>\n",
       "      <td>2020-05-16</td>\n",
       "      <td>2020-05-21</td>\n",
       "      <td>Health</td>\n",
       "      <td>157.13</td>\n",
       "      <td>9000</td>\n",
       "      <td>...</td>\n",
       "      <td>A</td>\n",
       "      <td>Major Loss</td>\n",
       "      <td>Police</td>\n",
       "      <td>0</td>\n",
       "      <td>1</td>\n",
       "      <td>GA</td>\n",
       "      <td>Savannah</td>\n",
       "      <td>4</td>\n",
       "      <td>AGENT00413</td>\n",
       "      <td>VNDR00556</td>\n",
       "    </tr>\n",
       "    <tr>\n",
       "      <th>1</th>\n",
       "      <td>2020-06-01 00:00:00</td>\n",
       "      <td>TXN00000002</td>\n",
       "      <td>A00008149</td>\n",
       "      <td>PLC00009594</td>\n",
       "      <td>2018-04-21</td>\n",
       "      <td>2020-05-13</td>\n",
       "      <td>2020-05-18</td>\n",
       "      <td>Property</td>\n",
       "      <td>141.71</td>\n",
       "      <td>26000</td>\n",
       "      <td>...</td>\n",
       "      <td>A</td>\n",
       "      <td>Total Loss</td>\n",
       "      <td>Ambulance</td>\n",
       "      <td>1</td>\n",
       "      <td>0</td>\n",
       "      <td>AL</td>\n",
       "      <td>Montgomery</td>\n",
       "      <td>0</td>\n",
       "      <td>AGENT00769</td>\n",
       "      <td>VNDR00592</td>\n",
       "    </tr>\n",
       "    <tr>\n",
       "      <th>2</th>\n",
       "      <td>2020-06-01 00:00:00</td>\n",
       "      <td>TXN00000003</td>\n",
       "      <td>A00003172</td>\n",
       "      <td>PLC00007969</td>\n",
       "      <td>2019-10-03</td>\n",
       "      <td>2020-05-21</td>\n",
       "      <td>2020-05-26</td>\n",
       "      <td>Property</td>\n",
       "      <td>157.24</td>\n",
       "      <td>13000</td>\n",
       "      <td>...</td>\n",
       "      <td>A</td>\n",
       "      <td>Total Loss</td>\n",
       "      <td>Police</td>\n",
       "      <td>0</td>\n",
       "      <td>1</td>\n",
       "      <td>CO</td>\n",
       "      <td>Grand Junction</td>\n",
       "      <td>19</td>\n",
       "      <td>AGENT00883</td>\n",
       "      <td>VNDR00031</td>\n",
       "    </tr>\n",
       "    <tr>\n",
       "      <th>3</th>\n",
       "      <td>2020-06-01 00:00:00</td>\n",
       "      <td>TXN00000004</td>\n",
       "      <td>A00007572</td>\n",
       "      <td>PLC00009292</td>\n",
       "      <td>2016-11-29</td>\n",
       "      <td>2020-05-14</td>\n",
       "      <td>2020-05-19</td>\n",
       "      <td>Health</td>\n",
       "      <td>172.87</td>\n",
       "      <td>16000</td>\n",
       "      <td>...</td>\n",
       "      <td>A</td>\n",
       "      <td>Minor Loss</td>\n",
       "      <td>Ambulance</td>\n",
       "      <td>0</td>\n",
       "      <td>0</td>\n",
       "      <td>GA</td>\n",
       "      <td>Savannah</td>\n",
       "      <td>12</td>\n",
       "      <td>AGENT00278</td>\n",
       "      <td>VNDR00075</td>\n",
       "    </tr>\n",
       "    <tr>\n",
       "      <th>4</th>\n",
       "      <td>2020-06-01 00:00:00</td>\n",
       "      <td>TXN00000005</td>\n",
       "      <td>A00008173</td>\n",
       "      <td>PLC00000204</td>\n",
       "      <td>2011-12-26</td>\n",
       "      <td>2020-05-17</td>\n",
       "      <td>2020-05-22</td>\n",
       "      <td>Travel</td>\n",
       "      <td>88.53</td>\n",
       "      <td>3000</td>\n",
       "      <td>...</td>\n",
       "      <td>A</td>\n",
       "      <td>Major Loss</td>\n",
       "      <td>Police</td>\n",
       "      <td>0</td>\n",
       "      <td>1</td>\n",
       "      <td>TN</td>\n",
       "      <td>Nashville</td>\n",
       "      <td>18</td>\n",
       "      <td>AGENT00636</td>\n",
       "      <td>VNDR00472</td>\n",
       "    </tr>\n",
       "  </tbody>\n",
       "</table>\n",
       "<p>5 rows × 38 columns</p>\n",
       "</div>"
      ],
      "text/plain": [
       "         TXN_DATE_TIME TRANSACTION_ID CUSTOMER_ID POLICY_NUMBER POLICY_EFF_DT  \\\n",
       "0  2020-06-01 00:00:00    TXN00000001   A00003822   PLC00008468    2015-06-23   \n",
       "1  2020-06-01 00:00:00    TXN00000002   A00008149   PLC00009594    2018-04-21   \n",
       "2  2020-06-01 00:00:00    TXN00000003   A00003172   PLC00007969    2019-10-03   \n",
       "3  2020-06-01 00:00:00    TXN00000004   A00007572   PLC00009292    2016-11-29   \n",
       "4  2020-06-01 00:00:00    TXN00000005   A00008173   PLC00000204    2011-12-26   \n",
       "\n",
       "      LOSS_DT   REPORT_DT INSURANCE_TYPE  PREMIUM_AMOUNT  CLAIM_AMOUNT  ...  \\\n",
       "0  2020-05-16  2020-05-21         Health          157.13          9000  ...   \n",
       "1  2020-05-13  2020-05-18       Property          141.71         26000  ...   \n",
       "2  2020-05-21  2020-05-26       Property          157.24         13000  ...   \n",
       "3  2020-05-14  2020-05-19         Health          172.87         16000  ...   \n",
       "4  2020-05-17  2020-05-22         Travel           88.53          3000  ...   \n",
       "\n",
       "  CLAIM_STATUS INCIDENT_SEVERITY AUTHORITY_CONTACTED ANY_INJURY  \\\n",
       "0            A        Major Loss              Police          0   \n",
       "1            A        Total Loss           Ambulance          1   \n",
       "2            A        Total Loss              Police          0   \n",
       "3            A        Minor Loss           Ambulance          0   \n",
       "4            A        Major Loss              Police          0   \n",
       "\n",
       "  POLICE_REPORT_AVAILABLE  INCIDENT_STATE   INCIDENT_CITY  \\\n",
       "0                       1              GA        Savannah   \n",
       "1                       0              AL      Montgomery   \n",
       "2                       1              CO  Grand Junction   \n",
       "3                       0              GA        Savannah   \n",
       "4                       1              TN       Nashville   \n",
       "\n",
       "  INCIDENT_HOUR_OF_THE_DAY    AGENT_ID  VENDOR_ID  \n",
       "0                        4  AGENT00413  VNDR00556  \n",
       "1                        0  AGENT00769  VNDR00592  \n",
       "2                       19  AGENT00883  VNDR00031  \n",
       "3                       12  AGENT00278  VNDR00075  \n",
       "4                       18  AGENT00636  VNDR00472  \n",
       "\n",
       "[5 rows x 38 columns]"
      ]
     },
     "execution_count": 358,
     "metadata": {},
     "output_type": "execute_result"
    }
   ],
   "source": [
    "# Assigning data frame to df\n",
    "df = pd.read_csv(\"https://raw.githubusercontent.com/waitasecant/Insurance-Claims-Fraud-/main/insurance_data.csv\")\n",
    "df.head()"
   ]
  },
  {
   "cell_type": "code",
   "execution_count": 283,
   "metadata": {},
   "outputs": [],
   "source": [
    "# Note: There are null values in our data\n",
    "# df.isnull().sum()"
   ]
  },
  {
   "cell_type": "code",
   "execution_count": 284,
   "metadata": {},
   "outputs": [],
   "source": [
    "# Normalizing the column names\n",
    "df = df.loc[0:,['TRANSACTION_ID', 'CUSTOMER_ID', 'AGENT_ID', 'VENDOR_ID', 'POLICY_NUMBER',\n",
    "    'CUSTOMER_NAME', 'AGE', 'STATE', 'INCIDENT_STATE', 'CITY', 'INCIDENT_CITY', 'POSTAL_CODE',\n",
    "    'CLAIM_AMOUNT', 'CLAIM_STATUS', 'PREMIUM_AMOUNT', 'TENURE', 'ACCT_NUMBER', 'SSN',\n",
    "    'EMPLOYMENT_STATUS', 'MARITAL_STATUS', 'NO_OF_FAMILY_MEMBERS', 'HOUSE_TYPE', 'SOCIAL_CLASS',\n",
    "    'CUSTOMER_EDUCATION_LEVEL','ADDRESS_LINE1', 'ADDRESS_LINE2', 'RISK_SEGMENTATION',\n",
    "    'INCIDENT_SEVERITY', 'INSURANCE_TYPE', 'AUTHORITY_CONTACTED','ANY_INJURY',\n",
    "    'POLICE_REPORT_AVAILABLE', 'TXN_DATE_TIME', 'POLICY_EFF_DT', 'LOSS_DT', 'REPORT_DT',\n",
    "    'ROUTING_NUMBER', 'INCIDENT_HOUR_OF_THE_DAY']]\n",
    "\n",
    "df = df.rename(columns = {'TRANSACTION_ID':'TXN_ID', 'CUSTOMER_ID':'Customer_ID', 'AGENT_ID':'Agent_ID',\n",
    "    'VENDOR_ID':'Vendor_ID', 'POLICY_NUMBER':'Policy_No', 'CUSTOMER_NAME':'Customer_Name', 'AGE':'Age',\n",
    "    'STATE':'State', 'INCIDENT_STATE':'Incident_State', 'CITY':'City', 'INCIDENT_CITY':'Incident_City',\n",
    "    'POSTAL_CODE':'Postal_Code', 'CLAIM_AMOUNT':'Claim_Amt', 'CLAIM_STATUS':'Claim_Status',\n",
    "    'PREMIUM_AMOUNT':'Premium_Amt', 'TENURE':'Tenure', 'ACCT_NUMBER':'Account_No', 'SSN':'SSN',\n",
    "    'EMPLOYMENT_STATUS':'Employment', 'MARITAL_STATUS': 'Married', 'NO_OF_FAMILY_MEMBERS':'Family',\n",
    "    'HOUSE_TYPE':'House', 'SOCIAL_CLASS':'Social_Class', 'CUSTOMER_EDUCATION_LEVEL':'Ed',\n",
    "    'ADDRESS_LINE1':'Address1', 'ADDRESS_LINE2':'Address2', 'RISK_SEGMENTATION':'Risk',\n",
    "    'INCIDENT_SEVERITY':'Severity', 'INSURANCE_TYPE':'Insurance_Type', 'AUTHORITY_CONTACTED':'Authority',\n",
    "    'ANY_INJURY':'Injury', 'POLICE_REPORT_AVAILABLE':'Policy_Report', 'TXN_DATE_TIME':'TXN_DT',\n",
    "    'POLICY_EFF_DT':'Policy_DT', 'LOSS_DT':'Loss_DT', 'REPORT_DT':'Report_DT',\n",
    "    'ROUTING_NUMBER':'Routing_No', 'INCIDENT_HOUR_OF_THE_DAY':'Incident_Hour'})"
   ]
  },
  {
   "cell_type": "code",
   "execution_count": 285,
   "metadata": {},
   "outputs": [],
   "source": [
    "def remove_zeros(df, k):\n",
    "    for i in range(4):\n",
    "        lst = []\n",
    "        for d in df[k]:\n",
    "            if d[0] == \"0\":\n",
    "                lst.append(d[1:])\n",
    "            else:\n",
    "                lst.append(d)\n",
    "        df[k]= lst\n",
    "    df[k] = np.int64(df[k])"
   ]
  },
  {
   "cell_type": "code",
   "execution_count": 286,
   "metadata": {},
   "outputs": [],
   "source": [
    "# Extracting indexes from TRANSACTION_ID\n",
    "df[\"TXN_ID\"] = [d[6:11] for d in df[\"TXN_ID\"]]\n",
    "remove_zeros(df, \"TXN_ID\")\n",
    "\n",
    "# Extracting indexes from CUSTOMER_ID\n",
    "df[\"Customer_ID\"] = [d[4:9] for d in df[\"Customer_ID\"]]\n",
    "remove_zeros(df, \"Customer_ID\")\n",
    "\n",
    "# Extracting indexes from POLICY_NUMBER\n",
    "df[\"Policy_No\"] = [d[6:11] for d in df[\"Policy_No\"]]\n",
    "remove_zeros(df, \"Policy_No\")\n",
    "\n",
    "# Extracting indexes from AGENT_ID\n",
    "df[\"Agent_ID\"] = [d[5:10] for d in df[\"Agent_ID\"]]\n",
    "remove_zeros(df, \"Agent_ID\")"
   ]
  },
  {
   "cell_type": "code",
   "execution_count": 287,
   "metadata": {},
   "outputs": [
    {
     "name": "stdout",
     "output_type": "stream",
     "text": [
      "True\n",
      "True\n",
      "True\n"
     ]
    }
   ],
   "source": [
    "# Check for that Customer and TXN IDs and Policy Number are actually numbers from 1 to 10000\n",
    "print(df[\"Customer_ID\"].sum() == sum([int(i) for i in range(10001)]))\n",
    "print(df[\"TXN_ID\"].sum() == sum([int(i) for i in range(10001)]))\n",
    "print(df[\"Policy_No\"].sum() == sum([int(i) for i in range(10001)]))"
   ]
  },
  {
   "cell_type": "code",
   "execution_count": 288,
   "metadata": {},
   "outputs": [
    {
     "data": {
      "text/html": [
       "<div>\n",
       "<style scoped>\n",
       "    .dataframe tbody tr th:only-of-type {\n",
       "        vertical-align: middle;\n",
       "    }\n",
       "\n",
       "    .dataframe tbody tr th {\n",
       "        vertical-align: top;\n",
       "    }\n",
       "\n",
       "    .dataframe thead th {\n",
       "        text-align: right;\n",
       "    }\n",
       "</style>\n",
       "<table border=\"1\" class=\"dataframe\">\n",
       "  <thead>\n",
       "    <tr style=\"text-align: right;\">\n",
       "      <th></th>\n",
       "      <th>TXN_ID</th>\n",
       "      <th>Customer_ID</th>\n",
       "      <th>Customer_Name</th>\n",
       "      <th>Policy_No</th>\n",
       "    </tr>\n",
       "  </thead>\n",
       "  <tbody>\n",
       "    <tr>\n",
       "      <th>1824</th>\n",
       "      <td>1825</td>\n",
       "      <td>8924</td>\n",
       "      <td>William Johnson</td>\n",
       "      <td>5691</td>\n",
       "    </tr>\n",
       "    <tr>\n",
       "      <th>4490</th>\n",
       "      <td>4491</td>\n",
       "      <td>4679</td>\n",
       "      <td>William Johnson</td>\n",
       "      <td>2809</td>\n",
       "    </tr>\n",
       "    <tr>\n",
       "      <th>6099</th>\n",
       "      <td>6100</td>\n",
       "      <td>2285</td>\n",
       "      <td>William Johnson</td>\n",
       "      <td>2924</td>\n",
       "    </tr>\n",
       "    <tr>\n",
       "      <th>9397</th>\n",
       "      <td>9398</td>\n",
       "      <td>9510</td>\n",
       "      <td>William Johnson</td>\n",
       "      <td>3136</td>\n",
       "    </tr>\n",
       "  </tbody>\n",
       "</table>\n",
       "</div>"
      ],
      "text/plain": [
       "      TXN_ID  Customer_ID    Customer_Name  Policy_No\n",
       "1824    1825         8924  William Johnson       5691\n",
       "4490    4491         4679  William Johnson       2809\n",
       "6099    6100         2285  William Johnson       2924\n",
       "9397    9398         9510  William Johnson       3136"
      ]
     },
     "execution_count": 288,
     "metadata": {},
     "output_type": "execute_result"
    }
   ],
   "source": [
    "df[\"Customer_Name\"].value_counts()\n",
    "df.loc[:,[\"TXN_ID\", \"Customer_ID\", \"Customer_Name\", \"Policy_No\"]][df[\"Customer_Name\"]==\"William Johnson\"]"
   ]
  },
  {
   "cell_type": "code",
   "execution_count": 289,
   "metadata": {},
   "outputs": [],
   "source": [
    "# There are repetative names for different customers for distinct Customer ID available\n",
    "# hence dropping Customer_Name\n",
    "df = df.drop(\"Customer_Name\", axis = 1)"
   ]
  },
  {
   "cell_type": "code",
   "execution_count": 290,
   "metadata": {},
   "outputs": [
    {
     "name": "stdout",
     "output_type": "stream",
     "text": [
      "85.05\n"
     ]
    }
   ],
   "source": [
    "# ALmost 85% of data for Address2 is not available hence dropping Address2\n",
    "print(df[\"Address2\"].isnull().sum()/100)\n",
    "df = df.drop(\"Address2\", axis = 1)\n",
    "df = df.rename(columns = {\"Address1\":\"Address\"})"
   ]
  },
  {
   "cell_type": "code",
   "execution_count": 291,
   "metadata": {},
   "outputs": [],
   "source": [
    "# Binarize the Y/N Categorical data\n",
    "df[\"Married\"] = df[\"Married\"].replace({\"Y\":1, \"N\":0})\n",
    "df[\"Employment\"] = df[\"Employment\"].replace({\"Y\":1, \"N\":0})\n",
    "df[\"Claim_Status\"] = df[\"Claim_Status\"].replace({\"A\":1, \"D\":0})"
   ]
  },
  {
   "cell_type": "code",
   "execution_count": 292,
   "metadata": {},
   "outputs": [],
   "source": [
    "# Since SSN is not included in employee_data.csv and vendor_data.csv, hence dropping SSN\n",
    "df = df.drop(\"SSN\", axis = 1)"
   ]
  },
  {
   "cell_type": "code",
   "execution_count": 293,
   "metadata": {},
   "outputs": [
    {
     "data": {
      "text/plain": [
       "54"
      ]
     },
     "execution_count": 293,
     "metadata": {},
     "output_type": "execute_result"
    }
   ],
   "source": [
    "# There are null values in City let's impute them\n",
    "df[\"City\"].isnull().sum()"
   ]
  },
  {
   "cell_type": "code",
   "execution_count": 294,
   "metadata": {},
   "outputs": [
    {
     "name": "stdout",
     "output_type": "stream",
     "text": [
      "(54, 3)\n"
     ]
    },
    {
     "data": {
      "text/html": [
       "<div>\n",
       "<style scoped>\n",
       "    .dataframe tbody tr th:only-of-type {\n",
       "        vertical-align: middle;\n",
       "    }\n",
       "\n",
       "    .dataframe tbody tr th {\n",
       "        vertical-align: top;\n",
       "    }\n",
       "\n",
       "    .dataframe thead th {\n",
       "        text-align: right;\n",
       "    }\n",
       "</style>\n",
       "<table border=\"1\" class=\"dataframe\">\n",
       "  <thead>\n",
       "    <tr style=\"text-align: right;\">\n",
       "      <th></th>\n",
       "      <th>TXN_ID</th>\n",
       "      <th>City</th>\n",
       "      <th>Postal_Code</th>\n",
       "    </tr>\n",
       "  </thead>\n",
       "  <tbody>\n",
       "    <tr>\n",
       "      <th>55</th>\n",
       "      <td>56</td>\n",
       "      <td>NaN</td>\n",
       "      <td>5149</td>\n",
       "    </tr>\n",
       "    <tr>\n",
       "      <th>160</th>\n",
       "      <td>161</td>\n",
       "      <td>NaN</td>\n",
       "      <td>21226</td>\n",
       "    </tr>\n",
       "    <tr>\n",
       "      <th>174</th>\n",
       "      <td>175</td>\n",
       "      <td>NaN</td>\n",
       "      <td>5733</td>\n",
       "    </tr>\n",
       "    <tr>\n",
       "      <th>977</th>\n",
       "      <td>978</td>\n",
       "      <td>NaN</td>\n",
       "      <td>5156</td>\n",
       "    </tr>\n",
       "    <tr>\n",
       "      <th>1200</th>\n",
       "      <td>1201</td>\n",
       "      <td>NaN</td>\n",
       "      <td>5468</td>\n",
       "    </tr>\n",
       "  </tbody>\n",
       "</table>\n",
       "</div>"
      ],
      "text/plain": [
       "      TXN_ID City  Postal_Code\n",
       "55        56  NaN         5149\n",
       "160      161  NaN        21226\n",
       "174      175  NaN         5733\n",
       "977      978  NaN         5156\n",
       "1200    1201  NaN         5468"
      ]
     },
     "execution_count": 294,
     "metadata": {},
     "output_type": "execute_result"
    }
   ],
   "source": [
    "# Data frame containing rows for which City has null values\n",
    "df_city_null = df.loc[:,[\"TXN_ID\",\"City\", \"Postal_Code\"]][df[\"City\"].isnull()==True]\n",
    "print(df_city_null.shape)\n",
    "df_city_null.head()"
   ]
  },
  {
   "cell_type": "code",
   "execution_count": 295,
   "metadata": {},
   "outputs": [
    {
     "data": {
      "text/plain": [
       "9704"
      ]
     },
     "execution_count": 295,
     "metadata": {},
     "output_type": "execute_result"
    }
   ],
   "source": [
    "df_city_null.iloc[53,0]"
   ]
  },
  {
   "cell_type": "code",
   "execution_count": 296,
   "metadata": {},
   "outputs": [
    {
     "data": {
      "text/html": [
       "<div>\n",
       "<style scoped>\n",
       "    .dataframe tbody tr th:only-of-type {\n",
       "        vertical-align: middle;\n",
       "    }\n",
       "\n",
       "    .dataframe tbody tr th {\n",
       "        vertical-align: top;\n",
       "    }\n",
       "\n",
       "    .dataframe thead th {\n",
       "        text-align: right;\n",
       "    }\n",
       "</style>\n",
       "<table border=\"1\" class=\"dataframe\">\n",
       "  <thead>\n",
       "    <tr style=\"text-align: right;\">\n",
       "      <th></th>\n",
       "      <th>TXN_ID</th>\n",
       "      <th>City</th>\n",
       "      <th>Postal_Code</th>\n",
       "    </tr>\n",
       "  </thead>\n",
       "  <tbody>\n",
       "    <tr>\n",
       "      <th>9703</th>\n",
       "      <td>9704</td>\n",
       "      <td>NaN</td>\n",
       "      <td>21226</td>\n",
       "    </tr>\n",
       "  </tbody>\n",
       "</table>\n",
       "</div>"
      ],
      "text/plain": [
       "      TXN_ID City  Postal_Code\n",
       "9703    9704  NaN        21226"
      ]
     },
     "execution_count": 296,
     "metadata": {},
     "output_type": "execute_result"
    }
   ],
   "source": [
    "df_new = df_city_null.drop([df_city_null.iloc[i,0]-1 for i in range(53)], axis = 0)\n",
    "df_new"
   ]
  },
  {
   "cell_type": "code",
   "execution_count": 297,
   "metadata": {},
   "outputs": [],
   "source": [
    "# Data frame containing rows for which City has non-null values (df - df_city_null)\n",
    "df_city = df.loc[:,[\"TXN_ID\", \"City\", \"Postal_Code\"]].drop([df_city_null.iloc[i,0]-1 for i in range(54)], axis = 0)\n",
    "# print(df_city.shape)\n",
    "# df_city.head()"
   ]
  },
  {
   "cell_type": "code",
   "execution_count": 298,
   "metadata": {},
   "outputs": [],
   "source": [
    "# Returns the nearest postal code in df_city for postal code in df_city_null\n",
    "def nearest_postal_code(x):\n",
    "    l = [abs(x-i) for i in df_city[\"Postal_Code\"]]\n",
    "    id = min(l)\n",
    "    d = {}\n",
    "    for i in df_city[\"Postal_Code\"]:\n",
    "        d[abs(x-i)]=  i\n",
    "    return d.get(id)"
   ]
  },
  {
   "cell_type": "code",
   "execution_count": 299,
   "metadata": {},
   "outputs": [],
   "source": [
    "# Returns the corresponding city in df_city for postal code in df_city\n",
    "def corresponding_city(x):\n",
    "    for i,j in zip(df_city[\"Postal_Code\"],range(len(df_city[\"Postal_Code\"]))):\n",
    "        if i == x:\n",
    "            return df_city.iloc[j,1]"
   ]
  },
  {
   "cell_type": "code",
   "execution_count": 300,
   "metadata": {},
   "outputs": [
    {
     "data": {
      "text/plain": [
       "55"
      ]
     },
     "execution_count": 300,
     "metadata": {},
     "output_type": "execute_result"
    }
   ],
   "source": [
    "# Making a copy of our original data frame\n",
    "df_copy = df.copy()\n",
    "df_city_null.iloc[0,0]-1"
   ]
  },
  {
   "cell_type": "code",
   "execution_count": 301,
   "metadata": {},
   "outputs": [],
   "source": [
    "# Imputes city names using postal code data\n",
    "for i,j in zip(df_city_null[\"Postal_Code\"], range(54)):\n",
    "    code = nearest_postal_code(i)\n",
    "    city = corresponding_city(code)\n",
    "    df_copy.loc[df_city_null.iloc[j,0]-1, \"City\"] = city"
   ]
  },
  {
   "cell_type": "code",
   "execution_count": 302,
   "metadata": {},
   "outputs": [
    {
     "data": {
      "text/plain": [
       "0"
      ]
     },
     "execution_count": 302,
     "metadata": {},
     "output_type": "execute_result"
    }
   ],
   "source": [
    "# Replacing values of df2 with original data frame df\n",
    "df = df_copy\n",
    "df[\"City\"].isnull().sum()"
   ]
  },
  {
   "cell_type": "code",
   "execution_count": 303,
   "metadata": {},
   "outputs": [
    {
     "data": {
      "text/plain": [
       "529"
      ]
     },
     "execution_count": 303,
     "metadata": {},
     "output_type": "execute_result"
    }
   ],
   "source": [
    "# There are 529 null values in Ed which can be imputed using Social Class and Employment\n",
    "# We will look at which of the them will be best suited for imputation \n",
    "df[\"Ed\"].isnull().sum()"
   ]
  },
  {
   "cell_type": "code",
   "execution_count": 304,
   "metadata": {},
   "outputs": [
    {
     "name": "stdout",
     "output_type": "stream",
     "text": [
      "Percent of LI, MI, HI with High School Ed\n",
      "LI  0.238724\n",
      "MI  0.249479\n",
      "HI  0.217023 \n",
      "\n",
      "Percent of LI, MI, HI with College Ed\n",
      "LI  0.110378\n",
      "MI  0.096579\n",
      "HI  0.109318 \n",
      "\n",
      "Percent of LI, MI, HI with Bachelor Ed\n",
      "LI  0.40374\n",
      "MI  0.393408\n",
      "HI  0.405002 \n",
      "\n",
      "Percent of LI, MI, HI with Masters Ed\n",
      "LI  0.099377\n",
      "MI  0.108052\n",
      "HI  0.103267 \n",
      "\n",
      "Percent of LI, MI, HI with MD Ed\n",
      "LI  0.049138\n",
      "MI  0.054652\n",
      "HI  0.057685 \n",
      "\n",
      "Percent of LI, MI, HI with PhD Ed\n",
      "LI  0.044004\n",
      "MI  0.046725\n",
      "HI  0.053247 \n",
      "\n"
     ]
    }
   ],
   "source": [
    "for i in [\"High School\", \"College\", \"Bachelor\", \"Masters\", \"MD\", \"PhD\"]:\n",
    "    print(f\"Percent of LI, MI, HI with {i} Ed\")\n",
    "    print(\"LI \",round((df.loc[:,\"Social_Class\"][df[\"Ed\"] == i] == \"LI\").sum()/(df[\"Social_Class\"] == \"LI\").sum(),6))\n",
    "    print(\"MI \",round((df.loc[:,\"Social_Class\"][df[\"Ed\"] == i] == \"MI\").sum()/(df[\"Social_Class\"] == \"MI\").sum(),6))\n",
    "    print(\"HI \",round((df.loc[:,\"Social_Class\"][df[\"Ed\"] == i] == \"HI\").sum()/(df[\"Social_Class\"] == \"HI\").sum(),6), \"\\n\")"
   ]
  },
  {
   "cell_type": "code",
   "execution_count": 305,
   "metadata": {},
   "outputs": [
    {
     "data": {
      "image/png": "[encoded data removed]",
      "text/plain": [
       "<Figure size 1440x360 with 3 Axes>"
      ]
     },
     "metadata": {
      "needs_background": "light"
     },
     "output_type": "display_data"
    }
   ],
   "source": [
    "import matplotlib.pyplot as plt\n",
    "import seaborn as sns\n",
    "\n",
    "plt.figure(figsize = (20,5))\n",
    "for i,j in zip([\"LI\", \"MI\", \"HI\"], range(3)):\n",
    "    plt.subplot(1,3,j+1)\n",
    "    plt.title(i)\n",
    "    sns.countplot(x = (df.loc[:,\"Ed\"][df[\"Social_Class\"] == i]))"
   ]
  },
  {
   "cell_type": "code",
   "execution_count": 306,
   "metadata": {},
   "outputs": [
    {
     "name": "stdout",
     "output_type": "stream",
     "text": [
      "Percent of High School Ed who are LI, MI, HI\n",
      "LI  0.272956\n",
      "MI  0.501468\n",
      "HI  0.225577 \n",
      "\n",
      "Percent of College Ed who are LI, MI, HI\n",
      "LI  0.290821\n",
      "MI  0.447343\n",
      "HI  0.261836 \n",
      "\n",
      "Percent of Bachelor Ed who are LI, MI, HI\n",
      "LI  0.275871\n",
      "MI  0.472563\n",
      "HI  0.251566 \n",
      "\n",
      "Percent of Masters Ed who are LI, MI, HI\n",
      "LI  0.25933\n",
      "MI  0.495694\n",
      "HI  0.244976 \n",
      "\n",
      "Percent of MD Ed who are LI, MI, HI\n",
      "LI  0.248609\n",
      "MI  0.486085\n",
      "HI  0.265306 \n",
      "\n",
      "Percent of PhD Ed who are LI, MI, HI\n",
      "LI  0.252101\n",
      "MI  0.470588\n",
      "HI  0.277311 \n",
      "\n"
     ]
    }
   ],
   "source": [
    "for i in [\"High School\", \"College\", \"Bachelor\", \"Masters\", \"MD\", \"PhD\"]:\n",
    "    print(f\"Percent of {i} Ed who are LI, MI, HI\")\n",
    "    print(\"LI \",round((df.loc[:,\"Social_Class\"][df[\"Ed\"] == i] == \"LI\").sum()/(df[\"Ed\"] == i).sum(),6))\n",
    "    print(\"MI \",round((df.loc[:,\"Social_Class\"][df[\"Ed\"] == i] == \"MI\").sum()/(df[\"Ed\"] == i).sum(),6))\n",
    "    print(\"HI \",round((df.loc[:,\"Social_Class\"][df[\"Ed\"] == i] == \"HI\").sum()/(df[\"Ed\"] == i).sum(),6), \"\\n\")"
   ]
  },
  {
   "cell_type": "code",
   "execution_count": 307,
   "metadata": {},
   "outputs": [
    {
     "data": {
      "image/png": "[encoded data removed]",
      "text/plain": [
       "<Figure size 1440x720 with 6 Axes>"
      ]
     },
     "metadata": {
      "needs_background": "light"
     },
     "output_type": "display_data"
    }
   ],
   "source": [
    "plt.figure(figsize = (20,10))\n",
    "for i,j in zip([\"High School\", \"College\", \"Bachelor\", \"Masters\", \"MD\", \"PhD\"], range(6)):  \n",
    "    plt.subplot(2,3,j+1)\n",
    "    plt.title(i)\n",
    "    sns.countplot(x = df.loc[:,\"Social_Class\"][df[\"Ed\"] == i])"
   ]
  },
  {
   "cell_type": "code",
   "execution_count": 308,
   "metadata": {},
   "outputs": [
    {
     "name": "stdout",
     "output_type": "stream",
     "text": [
      "Percent of High School Ed who are employed: 0.92327 \n",
      "\n",
      "Percent of College Ed who are employed: 0.924638 \n",
      "\n",
      "Percent of Bachelor Ed who are employed: 0.911551 \n",
      "\n",
      "Percent of Masters Ed who are employed: 0.929187 \n",
      "\n",
      "Percent of MD Ed who are employed: 0.914657 \n",
      "\n",
      "Percent of PhD Ed who are employed: 0.918067 \n",
      "\n"
     ]
    }
   ],
   "source": [
    "for i in [\"High School\", \"College\", \"Bachelor\", \"Masters\", \"MD\", \"PhD\"]:\n",
    "    print(f\"Percent of {i} Ed who are employed\", end= \": \")\n",
    "    print(round((df.loc[:,\"Ed\"][df[\"Employment\"] == 1] == i).sum()/(df[\"Ed\"] == i).sum(),6), \"\\n\")"
   ]
  },
  {
   "cell_type": "code",
   "execution_count": 309,
   "metadata": {},
   "outputs": [
    {
     "data": {
      "image/png": "[encoded data removed]",
      "text/plain": [
       "<Figure size 1440x720 with 6 Axes>"
      ]
     },
     "metadata": {
      "needs_background": "light"
     },
     "output_type": "display_data"
    }
   ],
   "source": [
    "plt.figure(figsize = (20,10))\n",
    "for i,j in zip([\"High School\", \"College\", \"Bachelor\", \"Masters\", \"MD\", \"PhD\"], range(6)):  \n",
    "    plt.subplot(2,3,j+1)\n",
    "    plt.title(i)\n",
    "    sns.countplot(x = df.loc[:,\"Employment\"][df[\"Ed\"] == i])"
   ]
  },
  {
   "cell_type": "code",
   "execution_count": 310,
   "metadata": {},
   "outputs": [
    {
     "name": "stdout",
     "output_type": "stream",
     "text": [
      "Percent of Employment with High School Ed: 0.240105 \n",
      "\n",
      "Percent of Employment with College Ed: 0.104351 \n",
      "\n",
      "Percent of Employment with Bachelor Ed: 0.396685 \n",
      "\n",
      "Percent of Employment with Masters Ed: 0.105877 \n",
      "\n",
      "Percent of Employment with MD Ed: 0.053756 \n",
      "\n",
      "Percent of Employment with PhD Ed: 0.04765 \n",
      "\n"
     ]
    }
   ],
   "source": [
    "# This distribution seems most relevant to impute\n",
    "for i in [\"High School\", \"College\", \"Bachelor\", \"Masters\", \"MD\", \"PhD\"]:\n",
    "    print(f\"Percent of Employment with {i} Ed\", end= \": \")\n",
    "    print(round((df.loc[:,\"Employment\"][df[\"Ed\"] == i] == 1).sum()/(df[\"Employment\"] == 1).sum(),6), \"\\n\")"
   ]
  },
  {
   "cell_type": "code",
   "execution_count": 311,
   "metadata": {},
   "outputs": [
    {
     "data": {
      "image/png": "[encoded data removed]",
      "text/plain": [
       "<Figure size 1440x360 with 2 Axes>"
      ]
     },
     "metadata": {
      "needs_background": "light"
     },
     "output_type": "display_data"
    }
   ],
   "source": [
    "plt.figure(figsize = (20,5))\n",
    "for i,j in zip(range(2),[\"Not Employed\", \"Employed\"]):\n",
    "    plt.subplot(1,2,i+1)\n",
    "    plt.title(j)\n",
    "    sns.countplot(x = (df.loc[:,\"Ed\"][df[\"Employment\"] == i]))"
   ]
  },
  {
   "cell_type": "code",
   "execution_count": 312,
   "metadata": {},
   "outputs": [
    {
     "name": "stdout",
     "output_type": "stream",
     "text": [
      "(529, 3)\n"
     ]
    },
    {
     "data": {
      "text/html": [
       "<div>\n",
       "<style scoped>\n",
       "    .dataframe tbody tr th:only-of-type {\n",
       "        vertical-align: middle;\n",
       "    }\n",
       "\n",
       "    .dataframe tbody tr th {\n",
       "        vertical-align: top;\n",
       "    }\n",
       "\n",
       "    .dataframe thead th {\n",
       "        text-align: right;\n",
       "    }\n",
       "</style>\n",
       "<table border=\"1\" class=\"dataframe\">\n",
       "  <thead>\n",
       "    <tr style=\"text-align: right;\">\n",
       "      <th></th>\n",
       "      <th>TXN_ID</th>\n",
       "      <th>Ed</th>\n",
       "      <th>Employment</th>\n",
       "    </tr>\n",
       "  </thead>\n",
       "  <tbody>\n",
       "    <tr>\n",
       "      <th>6</th>\n",
       "      <td>7</td>\n",
       "      <td>NaN</td>\n",
       "      <td>1</td>\n",
       "    </tr>\n",
       "    <tr>\n",
       "      <th>15</th>\n",
       "      <td>16</td>\n",
       "      <td>NaN</td>\n",
       "      <td>1</td>\n",
       "    </tr>\n",
       "    <tr>\n",
       "      <th>23</th>\n",
       "      <td>24</td>\n",
       "      <td>NaN</td>\n",
       "      <td>0</td>\n",
       "    </tr>\n",
       "    <tr>\n",
       "      <th>60</th>\n",
       "      <td>61</td>\n",
       "      <td>NaN</td>\n",
       "      <td>1</td>\n",
       "    </tr>\n",
       "    <tr>\n",
       "      <th>108</th>\n",
       "      <td>109</td>\n",
       "      <td>NaN</td>\n",
       "      <td>1</td>\n",
       "    </tr>\n",
       "  </tbody>\n",
       "</table>\n",
       "</div>"
      ],
      "text/plain": [
       "     TXN_ID   Ed  Employment\n",
       "6         7  NaN           1\n",
       "15       16  NaN           1\n",
       "23       24  NaN           0\n",
       "60       61  NaN           1\n",
       "108     109  NaN           1"
      ]
     },
     "execution_count": 312,
     "metadata": {},
     "output_type": "execute_result"
    }
   ],
   "source": [
    "# Creating new data frame containing rows for which education has null values\n",
    "df_ed_null = df.loc[:,[\"TXN_ID\",\"Ed\", \"Employment\"]][df[\"Ed\"].isnull()==True]\n",
    "print(df_ed_null.shape)\n",
    "df_ed_null.head()"
   ]
  },
  {
   "cell_type": "code",
   "execution_count": 313,
   "metadata": {},
   "outputs": [
    {
     "name": "stdout",
     "output_type": "stream",
     "text": [
      "(9471, 3)\n"
     ]
    },
    {
     "data": {
      "text/html": [
       "<div>\n",
       "<style scoped>\n",
       "    .dataframe tbody tr th:only-of-type {\n",
       "        vertical-align: middle;\n",
       "    }\n",
       "\n",
       "    .dataframe tbody tr th {\n",
       "        vertical-align: top;\n",
       "    }\n",
       "\n",
       "    .dataframe thead th {\n",
       "        text-align: right;\n",
       "    }\n",
       "</style>\n",
       "<table border=\"1\" class=\"dataframe\">\n",
       "  <thead>\n",
       "    <tr style=\"text-align: right;\">\n",
       "      <th></th>\n",
       "      <th>TXN_ID</th>\n",
       "      <th>Ed</th>\n",
       "      <th>Employment</th>\n",
       "    </tr>\n",
       "  </thead>\n",
       "  <tbody>\n",
       "    <tr>\n",
       "      <th>0</th>\n",
       "      <td>1</td>\n",
       "      <td>Bachelor</td>\n",
       "      <td>1</td>\n",
       "    </tr>\n",
       "    <tr>\n",
       "      <th>1</th>\n",
       "      <td>2</td>\n",
       "      <td>Bachelor</td>\n",
       "      <td>1</td>\n",
       "    </tr>\n",
       "    <tr>\n",
       "      <th>2</th>\n",
       "      <td>3</td>\n",
       "      <td>PhD</td>\n",
       "      <td>1</td>\n",
       "    </tr>\n",
       "    <tr>\n",
       "      <th>3</th>\n",
       "      <td>4</td>\n",
       "      <td>Masters</td>\n",
       "      <td>1</td>\n",
       "    </tr>\n",
       "    <tr>\n",
       "      <th>4</th>\n",
       "      <td>5</td>\n",
       "      <td>Masters</td>\n",
       "      <td>1</td>\n",
       "    </tr>\n",
       "  </tbody>\n",
       "</table>\n",
       "</div>"
      ],
      "text/plain": [
       "   TXN_ID        Ed  Employment\n",
       "0       1  Bachelor           1\n",
       "1       2  Bachelor           1\n",
       "2       3       PhD           1\n",
       "3       4   Masters           1\n",
       "4       5   Masters           1"
      ]
     },
     "execution_count": 313,
     "metadata": {},
     "output_type": "execute_result"
    }
   ],
   "source": [
    "# Data frame containing rows for which City has non-null values (df - df_city_null)\n",
    "df_ed = df.loc[:,[\"TXN_ID\", \"Ed\", \"Employment\"]].drop([df_ed_null.iloc[i,0]-1 for i in range(529)], axis = 0)\n",
    "print(df_ed.shape)\n",
    "df_ed.head()"
   ]
  },
  {
   "cell_type": "code",
   "execution_count": 314,
   "metadata": {},
   "outputs": [],
   "source": [
    "impute= np.array([])\n",
    "for i in [\"High School\", \"College\", \"Bachelor\", \"Masters\", \"MD\", \"PhD\"]:\n",
    "    a= (df_ed.loc[:,\"Employment\"][df_ed[\"Ed\"] == i] == 1).sum()/(df_ed[\"Employment\"] == 1).sum()\n",
    "    impute= np.append(impute, int(a*529)*[i])"
   ]
  },
  {
   "cell_type": "code",
   "execution_count": 315,
   "metadata": {},
   "outputs": [
    {
     "data": {
      "text/plain": [
       "6"
      ]
     },
     "execution_count": 315,
     "metadata": {},
     "output_type": "execute_result"
    }
   ],
   "source": [
    "df_copy = df.copy()\n",
    "df_ed_null.iloc[0,0]-1"
   ]
  },
  {
   "cell_type": "code",
   "execution_count": 316,
   "metadata": {},
   "outputs": [],
   "source": [
    "np.random.seed(69)\n",
    "for i in range(529):\n",
    "    np.random.shuffle(impute)   \n",
    "    df_copy.loc[df_ed_null.iloc[i,0]-1,\"Ed\"] = impute[0]"
   ]
  },
  {
   "cell_type": "code",
   "execution_count": 317,
   "metadata": {},
   "outputs": [
    {
     "data": {
      "text/plain": [
       "0"
      ]
     },
     "execution_count": 317,
     "metadata": {},
     "output_type": "execute_result"
    }
   ],
   "source": [
    "df = df_copy\n",
    "df[\"Ed\"].isnull().sum()"
   ]
  },
  {
   "cell_type": "code",
   "execution_count": 318,
   "metadata": {},
   "outputs": [
    {
     "data": {
      "text/plain": [
       "46"
      ]
     },
     "execution_count": 318,
     "metadata": {},
     "output_type": "execute_result"
    }
   ],
   "source": [
    "# There are null values in Incident City let's impute them\n",
    "df[\"Incident_City\"].isnull().sum()"
   ]
  },
  {
   "cell_type": "code",
   "execution_count": 319,
   "metadata": {},
   "outputs": [
    {
     "name": "stdout",
     "output_type": "stream",
     "text": [
      "(46, 3)\n"
     ]
    },
    {
     "data": {
      "text/html": [
       "<div>\n",
       "<style scoped>\n",
       "    .dataframe tbody tr th:only-of-type {\n",
       "        vertical-align: middle;\n",
       "    }\n",
       "\n",
       "    .dataframe tbody tr th {\n",
       "        vertical-align: top;\n",
       "    }\n",
       "\n",
       "    .dataframe thead th {\n",
       "        text-align: right;\n",
       "    }\n",
       "</style>\n",
       "<table border=\"1\" class=\"dataframe\">\n",
       "  <thead>\n",
       "    <tr style=\"text-align: right;\">\n",
       "      <th></th>\n",
       "      <th>TXN_ID</th>\n",
       "      <th>Incident_City</th>\n",
       "      <th>City</th>\n",
       "    </tr>\n",
       "  </thead>\n",
       "  <tbody>\n",
       "    <tr>\n",
       "      <th>183</th>\n",
       "      <td>184</td>\n",
       "      <td>NaN</td>\n",
       "      <td>Panama City</td>\n",
       "    </tr>\n",
       "    <tr>\n",
       "      <th>304</th>\n",
       "      <td>305</td>\n",
       "      <td>NaN</td>\n",
       "      <td>Glendale</td>\n",
       "    </tr>\n",
       "    <tr>\n",
       "      <th>427</th>\n",
       "      <td>428</td>\n",
       "      <td>NaN</td>\n",
       "      <td>Lynn Haven</td>\n",
       "    </tr>\n",
       "    <tr>\n",
       "      <th>469</th>\n",
       "      <td>470</td>\n",
       "      <td>NaN</td>\n",
       "      <td>Merrimac</td>\n",
       "    </tr>\n",
       "    <tr>\n",
       "      <th>877</th>\n",
       "      <td>878</td>\n",
       "      <td>NaN</td>\n",
       "      <td>Arvada</td>\n",
       "    </tr>\n",
       "  </tbody>\n",
       "</table>\n",
       "</div>"
      ],
      "text/plain": [
       "     TXN_ID Incident_City         City\n",
       "183     184           NaN  Panama City\n",
       "304     305           NaN     Glendale\n",
       "427     428           NaN   Lynn Haven\n",
       "469     470           NaN     Merrimac\n",
       "877     878           NaN       Arvada"
      ]
     },
     "execution_count": 319,
     "metadata": {},
     "output_type": "execute_result"
    }
   ],
   "source": [
    "# Data frame containing rows for which Incident City has null values\n",
    "df_icity_null = df.loc[:,[\"TXN_ID\",\"Incident_City\", \"City\"]][df[\"Incident_City\"].isnull()==True]\n",
    "print(df_icity_null.shape)\n",
    "df_icity_null.head()"
   ]
  },
  {
   "cell_type": "code",
   "execution_count": 320,
   "metadata": {},
   "outputs": [
    {
     "name": "stdout",
     "output_type": "stream",
     "text": [
      "(9954, 3)\n"
     ]
    },
    {
     "data": {
      "text/html": [
       "<div>\n",
       "<style scoped>\n",
       "    .dataframe tbody tr th:only-of-type {\n",
       "        vertical-align: middle;\n",
       "    }\n",
       "\n",
       "    .dataframe tbody tr th {\n",
       "        vertical-align: top;\n",
       "    }\n",
       "\n",
       "    .dataframe thead th {\n",
       "        text-align: right;\n",
       "    }\n",
       "</style>\n",
       "<table border=\"1\" class=\"dataframe\">\n",
       "  <thead>\n",
       "    <tr style=\"text-align: right;\">\n",
       "      <th></th>\n",
       "      <th>TXN_ID</th>\n",
       "      <th>Incident_City</th>\n",
       "      <th>City</th>\n",
       "    </tr>\n",
       "  </thead>\n",
       "  <tbody>\n",
       "    <tr>\n",
       "      <th>0</th>\n",
       "      <td>1</td>\n",
       "      <td>Savannah</td>\n",
       "      <td>Glendale</td>\n",
       "    </tr>\n",
       "    <tr>\n",
       "      <th>1</th>\n",
       "      <td>2</td>\n",
       "      <td>Montgomery</td>\n",
       "      <td>Arvada</td>\n",
       "    </tr>\n",
       "    <tr>\n",
       "      <th>2</th>\n",
       "      <td>3</td>\n",
       "      <td>Grand Junction</td>\n",
       "      <td>Vallejo</td>\n",
       "    </tr>\n",
       "    <tr>\n",
       "      <th>3</th>\n",
       "      <td>4</td>\n",
       "      <td>Savannah</td>\n",
       "      <td>Thunderbolt</td>\n",
       "    </tr>\n",
       "    <tr>\n",
       "      <th>4</th>\n",
       "      <td>5</td>\n",
       "      <td>Nashville</td>\n",
       "      <td>Livermore</td>\n",
       "    </tr>\n",
       "  </tbody>\n",
       "</table>\n",
       "</div>"
      ],
      "text/plain": [
       "   TXN_ID   Incident_City         City\n",
       "0       1        Savannah     Glendale\n",
       "1       2      Montgomery       Arvada\n",
       "2       3  Grand Junction      Vallejo\n",
       "3       4        Savannah  Thunderbolt\n",
       "4       5       Nashville    Livermore"
      ]
     },
     "execution_count": 320,
     "metadata": {},
     "output_type": "execute_result"
    }
   ],
   "source": [
    "# Data frame containing rows for which Incident City has non-null values (df - df_icity_null)\n",
    "df_icity = df.loc[:,[\"TXN_ID\", \"Incident_City\", \"City\"]].drop([df_icity_null.iloc[i,0]-1 for i in range(46)], axis = 0)\n",
    "print(df_icity.shape)\n",
    "df_icity.head()"
   ]
  },
  {
   "cell_type": "code",
   "execution_count": 321,
   "metadata": {},
   "outputs": [
    {
     "data": {
      "text/plain": [
       "183"
      ]
     },
     "execution_count": 321,
     "metadata": {},
     "output_type": "execute_result"
    }
   ],
   "source": [
    "# Making a copy of our original data frame\n",
    "df_copy = df.copy()\n",
    "df_icity_null.iloc[0,0]-1"
   ]
  },
  {
   "cell_type": "code",
   "execution_count": 322,
   "metadata": {},
   "outputs": [],
   "source": [
    "# Imputes Incident city names using corresponding city data\n",
    "for j in range(46):\n",
    "    df_icity_null.iloc[0,2]\n",
    "    new_df = df_icity.loc[:,[\"Incident_City\"]][df_icity.loc[:,\"City\"] == \"Panama City\"]\n",
    "    l = [i for i in new_df[\"Incident_City\"]]\n",
    "    d = {}\n",
    "    max = 0\n",
    "    for i in new_df[\"Incident_City\"]:\n",
    "        d[l.count(i)] = i\n",
    "        if l.count(i) > max:\n",
    "            max = l.count(i)\n",
    "    df_copy.loc[df_icity_null.iloc[j,0]-1, \"Incident_City\"] = d[max]\n"
   ]
  },
  {
   "cell_type": "code",
   "execution_count": 323,
   "metadata": {},
   "outputs": [
    {
     "data": {
      "text/plain": [
       "0"
      ]
     },
     "execution_count": 323,
     "metadata": {},
     "output_type": "execute_result"
    }
   ],
   "source": [
    "# Replacing values of df_copy with original data frame df\n",
    "df = df_copy\n",
    "df[\"Incident_City\"].isnull().sum()"
   ]
  },
  {
   "cell_type": "code",
   "execution_count": 324,
   "metadata": {},
   "outputs": [
    {
     "name": "stderr",
     "output_type": "stream",
     "text": [
      "C:\\Users\\Dell\\AppData\\Local\\Temp\\ipykernel_6436\\2396027386.py:5: SettingWithCopyWarning: \n",
      "A value is trying to be set on a copy of a slice from a DataFrame\n",
      "\n",
      "See the caveats in the documentation: https://pandas.pydata.org/pandas-docs/stable/user_guide/indexing.html#returning-a-view-versus-a-copy\n",
      "  df[\"Insurance_Amt\"][i] = df.loc[i,\"Premium_Amt\"]*df.loc[i,\"Tenure\"]\n"
     ]
    }
   ],
   "source": [
    "# Insurance Amount is the total money customer paid\n",
    "# df[\"Insurance_Amt\"] = 0\n",
    "df = df.assign(Insurance_Amt=0)\n",
    "for i in range(10000):    \n",
    "    df[\"Insurance_Amt\"][i] = df.loc[i,\"Premium_Amt\"]*df.loc[i,\"Tenure\"]"
   ]
  },
  {
   "cell_type": "code",
   "execution_count": 325,
   "metadata": {},
   "outputs": [
    {
     "data": {
      "image/png": "[encoded data removed]",
      "text/plain": [
       "<Figure size 1440x1800 with 6 Axes>"
      ]
     },
     "metadata": {
      "needs_background": "light"
     },
     "output_type": "display_data"
    }
   ],
   "source": [
    "# Plotting distribution of continuous feautres\n",
    "plt.figure(figsize=(20,25))\n",
    "plt.subplot(6,1,1)\n",
    "plt.title(\"Tenure\")\n",
    "plt.hist(df[\"Tenure\"], histtype=\"bar\", bins= 100, rwidth=0.8);\n",
    "plt.subplot(6,1,2)\n",
    "plt.title(\"Premium_Amt\")\n",
    "plt.hist(df[\"Premium_Amt\"], histtype=\"bar\", bins= 100, rwidth=0.8);\n",
    "plt.subplot(6,1,3)\n",
    "plt.title(\"Insurance_Amt\")\n",
    "plt.hist(df[\"Insurance_Amt\"], histtype=\"bar\", bins= 50, rwidth=0.8);\n",
    "plt.subplot(6,1,4)\n",
    "plt.title(\"Claim_Amt\")\n",
    "plt.hist(df[\"Claim_Amt\"], histtype=\"bar\", bins= 50, rwidth=0.8);\n",
    "plt.subplot(6,1,5)\n",
    "plt.title(\"Age\")\n",
    "plt.hist(df[\"Age\"], histtype=\"bar\", bins= 30, rwidth=0.8);\n",
    "plt.subplot(6,1,6)\n",
    "plt.title(\"Incident_Hour\")\n",
    "plt.hist(df[\"Incident_Hour\"], histtype=\"bar\", bins= 24, rwidth=0.8);"
   ]
  },
  {
   "cell_type": "code",
   "execution_count": 326,
   "metadata": {},
   "outputs": [],
   "source": [
    "# date_time function gives time in days between two dates, used to extract information from date data\n",
    "import datetime\n",
    "from math import floor\n",
    "def date_time(x,y):\n",
    "    a = datetime.date(eval(x[0:4]), np.int64(x[5:7]), np.int64(x[8:10]))\n",
    "    b = datetime.date(eval(y[0:4]), np.int64(y[5:7]), np.int64(y[8:10]))\n",
    "    return (a-b).days"
   ]
  },
  {
   "cell_type": "code",
   "execution_count": 327,
   "metadata": {},
   "outputs": [],
   "source": [
    "# Extracting information from date data\n",
    "df[\"Months_Policy_Loss\"] = [floor(date_time(df.loc[i,\"Loss_DT\"], df.loc[i,\"Policy_DT\"])/30) for i in range(10000)]\n",
    "df[\"Days_Loss_Report\"] = [date_time(df.loc[i,\"Report_DT\"], df.loc[i,\"Loss_DT\"]) for i in range(10000)]\n",
    "df[\"Days_Report_TXN\"] = [date_time(df.loc[i,\"TXN_DT\"], df.loc[i,\"Report_DT\"]) for i in range(10000)]"
   ]
  },
  {
   "cell_type": "code",
   "execution_count": 328,
   "metadata": {},
   "outputs": [],
   "source": [
    "# Dropping the date columns as necessary information is extracted\n",
    "df = df.drop([\"TXN_DT\", \"Policy_DT\", \"Loss_DT\", \"Report_DT\"], axis= 1)"
   ]
  },
  {
   "cell_type": "code",
   "execution_count": 329,
   "metadata": {},
   "outputs": [
    {
     "data": {
      "text/plain": [
       "0        7701 West Saint John Road\n",
       "1             8595 West 81st Drive\n",
       "2              637 Britannia Drive\n",
       "3                 2803 River Drive\n",
       "4              7573 National Drive\n",
       "                   ...            \n",
       "9995             126 Marjorie Lane\n",
       "9996         501 West Maple Street\n",
       "9997           10980 Splendor Loop\n",
       "9998                   19 Heritage\n",
       "9999    3516 North Virginia Avenue\n",
       "Name: Address, Length: 10000, dtype: object"
      ]
     },
     "execution_count": 329,
     "metadata": {},
     "output_type": "execute_result"
    }
   ],
   "source": [
    "df[\"Address\"]"
   ]
  },
  {
   "cell_type": "code",
   "execution_count": 330,
   "metadata": {},
   "outputs": [],
   "source": [
    "# mask = [df2[\"ADDRESS_LINE1\"][i] == df[\"Address\"][i] for i in range(600)]\n",
    "# df2[mask]"
   ]
  },
  {
   "cell_type": "code",
   "execution_count": 331,
   "metadata": {},
   "outputs": [],
   "source": [
    "# df.loc[:,[\"TXN_ID\",\"Customer_ID\", \"Agent_ID\",\"Vendor_ID\"]][df[\"Vendor_ID\"] == \"VNDR00451\"]"
   ]
  },
  {
   "cell_type": "code",
   "execution_count": 332,
   "metadata": {},
   "outputs": [],
   "source": [
    "# Using city columns to extract information whether the city and incident city have same values\n",
    "df_new_city = df[[\"City\", \"Incident_City\"]].assign(Same_City=0)\n",
    "\n",
    "for i in range(10000):    \n",
    "    lst = set()\n",
    "    for j in df_new_city.columns[:-1]:\n",
    "            lst.add(df_new_city.loc[i,j])\n",
    "    if len(lst) == 1:\n",
    "        df_new_city.iloc[i,-1] =+ 1\n",
    "df_new_city = df_new_city[[\"Same_City\"]]\n",
    "df_new_city = df_new_city.assign(TXN_ID = range(1,10001))\n",
    "df = df.merge(df_new_city, how= \"inner\", on = \"TXN_ID\")"
   ]
  },
  {
   "cell_type": "code",
   "execution_count": 333,
   "metadata": {},
   "outputs": [],
   "source": [
    "# Using state columns to extract information whether the city and incident city have same values\n",
    "df_new_state = df[[\"State\", \"Incident_State\"]].assign(Same_State=0)\n",
    "\n",
    "for i in range(10000):    \n",
    "    lst = set()\n",
    "    for j in df_new_state.columns[:-1]:\n",
    "            lst.add(df_new_state.loc[i,j])\n",
    "    if len(lst) == 1:\n",
    "        df_new_state.iloc[i,-1] =+ 1\n",
    "df_new_state = df_new_state[[\"Same_State\"]]\n",
    "df_new_state = df_new_state.assign(TXN_ID = range(1,10001))\n",
    "df = df.merge(df_new_state, how= \"inner\", on = \"TXN_ID\")"
   ]
  },
  {
   "cell_type": "code",
   "execution_count": 334,
   "metadata": {},
   "outputs": [],
   "source": [
    "# One hot encoding Insurance type\n",
    "OHE_Insurance_Type = pd.get_dummies(df[\"Insurance_Type\"], dtype= np.int64)\n",
    "df = pd.concat([df,OHE_Insurance_Type], axis = 1, join = \"inner\")\n",
    "\n",
    "# One hot encoding Risk\n",
    "df[\"Risk\"] = df[\"Risk\"].replace({\"L\":\"Risk_Low\",\"M\":\"Risk_Mid\", \"H\":\"Risk_High\"})\n",
    "OHE_Risk = pd.get_dummies(df[\"Risk\"], dtype = np.int64)\n",
    "df = pd.concat([df,OHE_Risk], axis = 1, join = \"inner\")\n",
    "\n",
    "# One hot encoding House\n",
    "OHE_House = pd.get_dummies(df[\"House\"], dtype = np.int64)\n",
    "df = pd.concat([df,OHE_House], axis = 1, join = \"inner\")\n",
    "\n",
    "# One hot encoding Social Class\n",
    "OHE_Social_Class = pd.get_dummies(df[\"Social_Class\"], dtype = np.int64)\n",
    "df = pd.concat([df,OHE_Social_Class], axis = 1, join = \"inner\")\n",
    "\n",
    "# One hot encoding Ed\n",
    "OHE_Ed = pd.get_dummies(df[\"Ed\"], dtype = np.int64)\n",
    "df = pd.concat([df,OHE_Ed], axis = 1, join = \"inner\")\n",
    "\n",
    "# One hot encoding Severity\n",
    "df[\"Severity\"] = df[\"Severity\"].replace({\"Total Loss\":\"Total_Loss\", \"Major Loss\":\"Major_Loss\", \"Minor Loss\": \"Minor_Loss\"})\n",
    "OHE_Severity = pd.get_dummies(df[\"Severity\"], dtype = np.int64)\n",
    "df = pd.concat([df,OHE_Severity], axis = 1, join = \"inner\")\n",
    "\n",
    "# One hot encoding Authority\n",
    "df[\"Authority\"] = df[\"Authority\"].replace({\"Ambulance\":\"Contact_Ambulance\",\n",
    "\"Police\":\"Contact_Police\", \"None\": \"Contact_None\", \"Other\": \"Contact_Other\"})\n",
    "OHE_Authority = pd.get_dummies(df[\"Authority\"], dtype = np.int64)\n",
    "df = pd.concat([df,OHE_Authority], axis = 1, join = \"inner\")"
   ]
  },
  {
   "cell_type": "code",
   "execution_count": 335,
   "metadata": {},
   "outputs": [],
   "source": [
    "df = df.drop([\"Insurance_Type\", \"Risk\", \"House\", \"Social_Class\", \"Ed\", \"Severity\", \"Authority\"], axis = 1)"
   ]
  },
  {
   "cell_type": "code",
   "execution_count": 336,
   "metadata": {},
   "outputs": [
    {
     "data": {
      "text/html": [
       "<div>\n",
       "<style scoped>\n",
       "    .dataframe tbody tr th:only-of-type {\n",
       "        vertical-align: middle;\n",
       "    }\n",
       "\n",
       "    .dataframe tbody tr th {\n",
       "        vertical-align: top;\n",
       "    }\n",
       "\n",
       "    .dataframe thead th {\n",
       "        text-align: right;\n",
       "    }\n",
       "</style>\n",
       "<table border=\"1\" class=\"dataframe\">\n",
       "  <thead>\n",
       "    <tr style=\"text-align: right;\">\n",
       "      <th></th>\n",
       "      <th>TXN_ID</th>\n",
       "      <th>Customer_ID</th>\n",
       "      <th>Agent_ID</th>\n",
       "      <th>Vendor_ID</th>\n",
       "      <th>Policy_No</th>\n",
       "      <th>Age</th>\n",
       "      <th>State</th>\n",
       "      <th>Incident_State</th>\n",
       "      <th>City</th>\n",
       "      <th>Incident_City</th>\n",
       "      <th>...</th>\n",
       "      <th>MD</th>\n",
       "      <th>Masters</th>\n",
       "      <th>PhD</th>\n",
       "      <th>Major_Loss</th>\n",
       "      <th>Minor_Loss</th>\n",
       "      <th>Total_Loss</th>\n",
       "      <th>Contact_Ambulance</th>\n",
       "      <th>Contact_None</th>\n",
       "      <th>Contact_Other</th>\n",
       "      <th>Contact_Police</th>\n",
       "    </tr>\n",
       "  </thead>\n",
       "  <tbody>\n",
       "    <tr>\n",
       "      <th>0</th>\n",
       "      <td>1</td>\n",
       "      <td>3822</td>\n",
       "      <td>413</td>\n",
       "      <td>VNDR00556</td>\n",
       "      <td>8468</td>\n",
       "      <td>54</td>\n",
       "      <td>AZ</td>\n",
       "      <td>GA</td>\n",
       "      <td>Glendale</td>\n",
       "      <td>Savannah</td>\n",
       "      <td>...</td>\n",
       "      <td>0</td>\n",
       "      <td>0</td>\n",
       "      <td>0</td>\n",
       "      <td>1</td>\n",
       "      <td>0</td>\n",
       "      <td>0</td>\n",
       "      <td>0</td>\n",
       "      <td>0</td>\n",
       "      <td>0</td>\n",
       "      <td>1</td>\n",
       "    </tr>\n",
       "    <tr>\n",
       "      <th>1</th>\n",
       "      <td>2</td>\n",
       "      <td>8149</td>\n",
       "      <td>769</td>\n",
       "      <td>VNDR00592</td>\n",
       "      <td>9594</td>\n",
       "      <td>61</td>\n",
       "      <td>CO</td>\n",
       "      <td>AL</td>\n",
       "      <td>Arvada</td>\n",
       "      <td>Montgomery</td>\n",
       "      <td>...</td>\n",
       "      <td>0</td>\n",
       "      <td>0</td>\n",
       "      <td>0</td>\n",
       "      <td>0</td>\n",
       "      <td>0</td>\n",
       "      <td>1</td>\n",
       "      <td>1</td>\n",
       "      <td>0</td>\n",
       "      <td>0</td>\n",
       "      <td>0</td>\n",
       "    </tr>\n",
       "    <tr>\n",
       "      <th>2</th>\n",
       "      <td>3</td>\n",
       "      <td>3172</td>\n",
       "      <td>883</td>\n",
       "      <td>VNDR00031</td>\n",
       "      <td>7969</td>\n",
       "      <td>47</td>\n",
       "      <td>CA</td>\n",
       "      <td>CO</td>\n",
       "      <td>Vallejo</td>\n",
       "      <td>Grand Junction</td>\n",
       "      <td>...</td>\n",
       "      <td>0</td>\n",
       "      <td>0</td>\n",
       "      <td>1</td>\n",
       "      <td>0</td>\n",
       "      <td>0</td>\n",
       "      <td>1</td>\n",
       "      <td>0</td>\n",
       "      <td>0</td>\n",
       "      <td>0</td>\n",
       "      <td>1</td>\n",
       "    </tr>\n",
       "    <tr>\n",
       "      <th>3</th>\n",
       "      <td>4</td>\n",
       "      <td>7572</td>\n",
       "      <td>278</td>\n",
       "      <td>VNDR00075</td>\n",
       "      <td>9292</td>\n",
       "      <td>36</td>\n",
       "      <td>GA</td>\n",
       "      <td>GA</td>\n",
       "      <td>Thunderbolt</td>\n",
       "      <td>Savannah</td>\n",
       "      <td>...</td>\n",
       "      <td>0</td>\n",
       "      <td>1</td>\n",
       "      <td>0</td>\n",
       "      <td>0</td>\n",
       "      <td>1</td>\n",
       "      <td>0</td>\n",
       "      <td>1</td>\n",
       "      <td>0</td>\n",
       "      <td>0</td>\n",
       "      <td>0</td>\n",
       "    </tr>\n",
       "    <tr>\n",
       "      <th>4</th>\n",
       "      <td>5</td>\n",
       "      <td>8173</td>\n",
       "      <td>636</td>\n",
       "      <td>VNDR00472</td>\n",
       "      <td>204</td>\n",
       "      <td>51</td>\n",
       "      <td>CA</td>\n",
       "      <td>TN</td>\n",
       "      <td>Livermore</td>\n",
       "      <td>Nashville</td>\n",
       "      <td>...</td>\n",
       "      <td>0</td>\n",
       "      <td>1</td>\n",
       "      <td>0</td>\n",
       "      <td>1</td>\n",
       "      <td>0</td>\n",
       "      <td>0</td>\n",
       "      <td>0</td>\n",
       "      <td>0</td>\n",
       "      <td>0</td>\n",
       "      <td>1</td>\n",
       "    </tr>\n",
       "  </tbody>\n",
       "</table>\n",
       "<p>5 rows × 58 columns</p>\n",
       "</div>"
      ],
      "text/plain": [
       "   TXN_ID  Customer_ID  Agent_ID  Vendor_ID  Policy_No  Age State  \\\n",
       "0       1         3822       413  VNDR00556       8468   54    AZ   \n",
       "1       2         8149       769  VNDR00592       9594   61    CO   \n",
       "2       3         3172       883  VNDR00031       7969   47    CA   \n",
       "3       4         7572       278  VNDR00075       9292   36    GA   \n",
       "4       5         8173       636  VNDR00472        204   51    CA   \n",
       "\n",
       "  Incident_State         City   Incident_City  ...  MD  Masters  PhD  \\\n",
       "0             GA     Glendale        Savannah  ...   0        0    0   \n",
       "1             AL       Arvada      Montgomery  ...   0        0    0   \n",
       "2             CO      Vallejo  Grand Junction  ...   0        0    1   \n",
       "3             GA  Thunderbolt        Savannah  ...   0        1    0   \n",
       "4             TN    Livermore       Nashville  ...   0        1    0   \n",
       "\n",
       "   Major_Loss  Minor_Loss Total_Loss  Contact_Ambulance  Contact_None  \\\n",
       "0           1           0          0                  0             0   \n",
       "1           0           0          1                  1             0   \n",
       "2           0           0          1                  0             0   \n",
       "3           0           1          0                  1             0   \n",
       "4           1           0          0                  0             0   \n",
       "\n",
       "   Contact_Other Contact_Police  \n",
       "0              0              1  \n",
       "1              0              0  \n",
       "2              0              1  \n",
       "3              0              0  \n",
       "4              0              1  \n",
       "\n",
       "[5 rows x 58 columns]"
      ]
     },
     "execution_count": 336,
     "metadata": {},
     "output_type": "execute_result"
    }
   ],
   "source": [
    "df.head()"
   ]
  },
  {
   "cell_type": "markdown",
   "metadata": {},
   "source": [
    "---"
   ]
  },
  {
   "cell_type": "code",
   "execution_count": 359,
   "metadata": {},
   "outputs": [
    {
     "data": {
      "text/plain": [
       "(1200, 10)"
      ]
     },
     "execution_count": 359,
     "metadata": {},
     "output_type": "execute_result"
    }
   ],
   "source": [
    "# Importing employee data\n",
    "df_emp = pd.read_csv(\"https://raw.githubusercontent.com/waitasecant/Insurance-Claims-Fraud-/main/employee_data.csv\")\n",
    "df_emp.shape"
   ]
  },
  {
   "cell_type": "code",
   "execution_count": 338,
   "metadata": {},
   "outputs": [],
   "source": [
    "# Renaming collumns appropriately\n",
    "df_emp = df_emp.rename(columns = {'AGENT_ID':'Agent_ID', 'AGENT_NAME':'Agent_Name',\n",
    "        'DATE_OF_JOINING':'DoJ', 'ADDRESS_LINE1':'Emp_Address', 'ADDRESS_LINE2':'Emp_Address2',\n",
    "        'CITY':'Emp_City', 'STATE':'Emp_State', 'POSTAL_CODE':'Emp_Postal_Code',\n",
    "        'EMP_ROUTING_NUMBER':'Emp_Routing_No', 'EMP_ACCT_NUMBER':'Emp_Account_No'})\n",
    "df_emp = df_emp.drop(\"Emp_Address2\", axis= 1)"
   ]
  },
  {
   "cell_type": "code",
   "execution_count": 339,
   "metadata": {},
   "outputs": [],
   "source": [
    "# Extracting indexes from Agent_ID\n",
    "df_emp[\"Agent_ID\"] = [d[5:10] for d in df_emp[\"Agent_ID\"]]\n",
    "remove_zeros(df_emp, \"Agent_ID\")"
   ]
  },
  {
   "cell_type": "code",
   "execution_count": 340,
   "metadata": {},
   "outputs": [
    {
     "data": {
      "text/html": [
       "<div>\n",
       "<style scoped>\n",
       "    .dataframe tbody tr th:only-of-type {\n",
       "        vertical-align: middle;\n",
       "    }\n",
       "\n",
       "    .dataframe tbody tr th {\n",
       "        vertical-align: top;\n",
       "    }\n",
       "\n",
       "    .dataframe thead th {\n",
       "        text-align: right;\n",
       "    }\n",
       "</style>\n",
       "<table border=\"1\" class=\"dataframe\">\n",
       "  <thead>\n",
       "    <tr style=\"text-align: right;\">\n",
       "      <th></th>\n",
       "      <th>Agent_ID</th>\n",
       "      <th>Agent_Name</th>\n",
       "      <th>DoJ</th>\n",
       "      <th>Emp_Address</th>\n",
       "      <th>Emp_City</th>\n",
       "      <th>Emp_State</th>\n",
       "      <th>Emp_Postal_Code</th>\n",
       "      <th>Emp_Routing_No</th>\n",
       "      <th>Emp_Account_No</th>\n",
       "    </tr>\n",
       "  </thead>\n",
       "  <tbody>\n",
       "    <tr>\n",
       "      <th>0</th>\n",
       "      <td>1</td>\n",
       "      <td>Ray Johns</td>\n",
       "      <td>1993-06-05</td>\n",
       "      <td>1402 Maggies Way</td>\n",
       "      <td>Waterbury Center</td>\n",
       "      <td>VT</td>\n",
       "      <td>5677</td>\n",
       "      <td>34584958</td>\n",
       "      <td>HKUN51252328472585</td>\n",
       "    </tr>\n",
       "    <tr>\n",
       "      <th>1</th>\n",
       "      <td>2</td>\n",
       "      <td>Angelo Borjon</td>\n",
       "      <td>2005-12-27</td>\n",
       "      <td>414 Tanya Pass</td>\n",
       "      <td>Panama City</td>\n",
       "      <td>FL</td>\n",
       "      <td>32404</td>\n",
       "      <td>107363763</td>\n",
       "      <td>OPIS19290040088204</td>\n",
       "    </tr>\n",
       "    <tr>\n",
       "      <th>2</th>\n",
       "      <td>3</td>\n",
       "      <td>Candy Spellman</td>\n",
       "      <td>2003-09-02</td>\n",
       "      <td>606 National Street</td>\n",
       "      <td>Fayetteville</td>\n",
       "      <td>AR</td>\n",
       "      <td>72701</td>\n",
       "      <td>81744097</td>\n",
       "      <td>YSCJ67489688482590</td>\n",
       "    </tr>\n",
       "    <tr>\n",
       "      <th>3</th>\n",
       "      <td>4</td>\n",
       "      <td>Mary Smith</td>\n",
       "      <td>2004-09-23</td>\n",
       "      <td>235 Hugh Thomas Drive</td>\n",
       "      <td>Panama City</td>\n",
       "      <td>FL</td>\n",
       "      <td>32404</td>\n",
       "      <td>67563771</td>\n",
       "      <td>ZANG21285355574581</td>\n",
       "    </tr>\n",
       "    <tr>\n",
       "      <th>4</th>\n",
       "      <td>5</td>\n",
       "      <td>Mildred Diaz</td>\n",
       "      <td>2011-06-21</td>\n",
       "      <td>3426 Broadview Street</td>\n",
       "      <td>Montgomery</td>\n",
       "      <td>AL</td>\n",
       "      <td>36110</td>\n",
       "      <td>114951317</td>\n",
       "      <td>DZFS82244494451134</td>\n",
       "    </tr>\n",
       "  </tbody>\n",
       "</table>\n",
       "</div>"
      ],
      "text/plain": [
       "   Agent_ID      Agent_Name         DoJ            Emp_Address  \\\n",
       "0         1       Ray Johns  1993-06-05       1402 Maggies Way   \n",
       "1         2   Angelo Borjon  2005-12-27         414 Tanya Pass   \n",
       "2         3  Candy Spellman  2003-09-02    606 National Street   \n",
       "3         4      Mary Smith  2004-09-23  235 Hugh Thomas Drive   \n",
       "4         5    Mildred Diaz  2011-06-21  3426 Broadview Street   \n",
       "\n",
       "           Emp_City Emp_State  Emp_Postal_Code  Emp_Routing_No  \\\n",
       "0  Waterbury Center        VT             5677        34584958   \n",
       "1       Panama City        FL            32404       107363763   \n",
       "2      Fayetteville        AR            72701        81744097   \n",
       "3       Panama City        FL            32404        67563771   \n",
       "4        Montgomery        AL            36110       114951317   \n",
       "\n",
       "       Emp_Account_No  \n",
       "0  HKUN51252328472585  \n",
       "1  OPIS19290040088204  \n",
       "2  YSCJ67489688482590  \n",
       "3  ZANG21285355574581  \n",
       "4  DZFS82244494451134  "
      ]
     },
     "execution_count": 340,
     "metadata": {},
     "output_type": "execute_result"
    }
   ],
   "source": [
    "df_emp.head()"
   ]
  },
  {
   "cell_type": "code",
   "execution_count": 341,
   "metadata": {},
   "outputs": [],
   "source": [
    "# Creating a ordered list containing Agent IDs corresponding to df\n",
    "agent_id = {}\n",
    "for i in range(10000):\n",
    "    agent_id[df[\"Agent_ID\"][i]] = 0\n",
    "agent_id = list(agent_id.keys())"
   ]
  },
  {
   "cell_type": "code",
   "execution_count": 342,
   "metadata": {},
   "outputs": [],
   "source": [
    "# Creating a copy of df_emp\n",
    "df_emp_copy = df_emp.copy()"
   ]
  },
  {
   "cell_type": "code",
   "execution_count": 343,
   "metadata": {},
   "outputs": [],
   "source": [
    "# Adjusting rows of df_emp accordingly to optimize the following loops\n",
    "for i in range(1200):\n",
    "    df_emp_copy.loc[i] = df_emp.loc[agent_id[i]-1]\n",
    "df_emp = df_emp_copy"
   ]
  },
  {
   "cell_type": "code",
   "execution_count": 344,
   "metadata": {},
   "outputs": [
    {
     "data": {
      "text/html": [
       "<div>\n",
       "<style scoped>\n",
       "    .dataframe tbody tr th:only-of-type {\n",
       "        vertical-align: middle;\n",
       "    }\n",
       "\n",
       "    .dataframe tbody tr th {\n",
       "        vertical-align: top;\n",
       "    }\n",
       "\n",
       "    .dataframe thead th {\n",
       "        text-align: right;\n",
       "    }\n",
       "</style>\n",
       "<table border=\"1\" class=\"dataframe\">\n",
       "  <thead>\n",
       "    <tr style=\"text-align: right;\">\n",
       "      <th></th>\n",
       "      <th>Agent_ID</th>\n",
       "      <th>Agent_Name</th>\n",
       "      <th>DoJ</th>\n",
       "      <th>Emp_Address</th>\n",
       "      <th>Emp_City</th>\n",
       "      <th>Emp_State</th>\n",
       "      <th>Emp_Postal_Code</th>\n",
       "      <th>Emp_Routing_No</th>\n",
       "      <th>Emp_Account_No</th>\n",
       "    </tr>\n",
       "  </thead>\n",
       "  <tbody>\n",
       "    <tr>\n",
       "      <th>0</th>\n",
       "      <td>413</td>\n",
       "      <td>Amy Wangler</td>\n",
       "      <td>1994-01-06</td>\n",
       "      <td>584 Rural Hill Road</td>\n",
       "      <td>Nashville</td>\n",
       "      <td>TN</td>\n",
       "      <td>37217</td>\n",
       "      <td>35441155</td>\n",
       "      <td>LRZO53254369804934</td>\n",
       "    </tr>\n",
       "    <tr>\n",
       "      <th>1</th>\n",
       "      <td>769</td>\n",
       "      <td>Jessica Montez</td>\n",
       "      <td>2004-05-28</td>\n",
       "      <td>6114 West Glenn Drive</td>\n",
       "      <td>Glendale</td>\n",
       "      <td>AZ</td>\n",
       "      <td>85301</td>\n",
       "      <td>44055451</td>\n",
       "      <td>XBYG14382904542874</td>\n",
       "    </tr>\n",
       "    <tr>\n",
       "      <th>2</th>\n",
       "      <td>883</td>\n",
       "      <td>Howard Smith</td>\n",
       "      <td>2004-08-01</td>\n",
       "      <td>2500 Snowdoun Chambers Road</td>\n",
       "      <td>Montgomery</td>\n",
       "      <td>AL</td>\n",
       "      <td>36105</td>\n",
       "      <td>55770246</td>\n",
       "      <td>WRXH14597428306333</td>\n",
       "    </tr>\n",
       "    <tr>\n",
       "      <th>3</th>\n",
       "      <td>278</td>\n",
       "      <td>Patricia Tucker</td>\n",
       "      <td>2007-06-12</td>\n",
       "      <td>313 Lone Oak Drive</td>\n",
       "      <td>Norman</td>\n",
       "      <td>OK</td>\n",
       "      <td>73071</td>\n",
       "      <td>87652976</td>\n",
       "      <td>YEPN16077902472499</td>\n",
       "    </tr>\n",
       "    <tr>\n",
       "      <th>4</th>\n",
       "      <td>636</td>\n",
       "      <td>Brenda Bean</td>\n",
       "      <td>2010-01-19</td>\n",
       "      <td>120 Wells Avenue</td>\n",
       "      <td>Glen Burnie</td>\n",
       "      <td>MD</td>\n",
       "      <td>21061</td>\n",
       "      <td>76119019</td>\n",
       "      <td>HZBK86544578578547</td>\n",
       "    </tr>\n",
       "  </tbody>\n",
       "</table>\n",
       "</div>"
      ],
      "text/plain": [
       "   Agent_ID       Agent_Name         DoJ                  Emp_Address  \\\n",
       "0       413      Amy Wangler  1994-01-06          584 Rural Hill Road   \n",
       "1       769   Jessica Montez  2004-05-28        6114 West Glenn Drive   \n",
       "2       883     Howard Smith  2004-08-01  2500 Snowdoun Chambers Road   \n",
       "3       278  Patricia Tucker  2007-06-12           313 Lone Oak Drive   \n",
       "4       636      Brenda Bean  2010-01-19             120 Wells Avenue   \n",
       "\n",
       "      Emp_City Emp_State  Emp_Postal_Code  Emp_Routing_No      Emp_Account_No  \n",
       "0    Nashville        TN            37217        35441155  LRZO53254369804934  \n",
       "1     Glendale        AZ            85301        44055451  XBYG14382904542874  \n",
       "2   Montgomery        AL            36105        55770246  WRXH14597428306333  \n",
       "3       Norman        OK            73071        87652976  YEPN16077902472499  \n",
       "4  Glen Burnie        MD            21061        76119019  HZBK86544578578547  "
      ]
     },
     "execution_count": 344,
     "metadata": {},
     "output_type": "execute_result"
    }
   ],
   "source": [
    "df_emp.head()"
   ]
  },
  {
   "cell_type": "code",
   "execution_count": 345,
   "metadata": {},
   "outputs": [],
   "source": [
    "# for i in range(10000):\n",
    "#     for j in range(1200):\n",
    "#         if df[\"Agent_ID\"][i] == df_emp[\"Agent_ID\"][j]:\n",
    "#             if df.loc[i,\"Postal_Code\"] == df_emp.loc[j,\"Emp_Postal_Code\"]:\n",
    "#                 print(i,j)\n",
    "#     continue"
   ]
  },
  {
   "cell_type": "code",
   "execution_count": 346,
   "metadata": {},
   "outputs": [
    {
     "data": {
      "text/html": [
       "<div>\n",
       "<style scoped>\n",
       "    .dataframe tbody tr th:only-of-type {\n",
       "        vertical-align: middle;\n",
       "    }\n",
       "\n",
       "    .dataframe tbody tr th {\n",
       "        vertical-align: top;\n",
       "    }\n",
       "\n",
       "    .dataframe thead th {\n",
       "        text-align: right;\n",
       "    }\n",
       "</style>\n",
       "<table border=\"1\" class=\"dataframe\">\n",
       "  <thead>\n",
       "    <tr style=\"text-align: right;\">\n",
       "      <th></th>\n",
       "      <th>Emp_Address</th>\n",
       "      <th>Emp_City</th>\n",
       "      <th>Emp_State</th>\n",
       "      <th>Emp_Postal_Code</th>\n",
       "      <th>Agent_ID</th>\n",
       "    </tr>\n",
       "  </thead>\n",
       "  <tbody>\n",
       "    <tr>\n",
       "      <th>631</th>\n",
       "      <td>1405 Tolkien Drive</td>\n",
       "      <td>Conway</td>\n",
       "      <td>AR</td>\n",
       "      <td>72034</td>\n",
       "      <td>873</td>\n",
       "    </tr>\n",
       "  </tbody>\n",
       "</table>\n",
       "</div>"
      ],
      "text/plain": [
       "            Emp_Address Emp_City Emp_State  Emp_Postal_Code  Agent_ID\n",
       "631  1405 Tolkien Drive   Conway        AR            72034       873"
      ]
     },
     "execution_count": 346,
     "metadata": {},
     "output_type": "execute_result"
    }
   ],
   "source": [
    "df_emp.loc[[631],[\"Emp_Address\", \"Emp_City\", \"Emp_State\", \"Emp_Postal_Code\", \"Agent_ID\"]]"
   ]
  },
  {
   "cell_type": "code",
   "execution_count": 347,
   "metadata": {},
   "outputs": [
    {
     "data": {
      "text/html": [
       "<div>\n",
       "<style scoped>\n",
       "    .dataframe tbody tr th:only-of-type {\n",
       "        vertical-align: middle;\n",
       "    }\n",
       "\n",
       "    .dataframe tbody tr th {\n",
       "        vertical-align: top;\n",
       "    }\n",
       "\n",
       "    .dataframe thead th {\n",
       "        text-align: right;\n",
       "    }\n",
       "</style>\n",
       "<table border=\"1\" class=\"dataframe\">\n",
       "  <thead>\n",
       "    <tr style=\"text-align: right;\">\n",
       "      <th></th>\n",
       "      <th>Address</th>\n",
       "      <th>City</th>\n",
       "      <th>State</th>\n",
       "      <th>Postal_Code</th>\n",
       "      <th>Agent_ID</th>\n",
       "      <th>TXN_ID</th>\n",
       "    </tr>\n",
       "  </thead>\n",
       "  <tbody>\n",
       "    <tr>\n",
       "      <th>9292</th>\n",
       "      <td>1405 Tolkien Drive</td>\n",
       "      <td>Conway</td>\n",
       "      <td>AR</td>\n",
       "      <td>72034</td>\n",
       "      <td>873</td>\n",
       "      <td>9293</td>\n",
       "    </tr>\n",
       "  </tbody>\n",
       "</table>\n",
       "</div>"
      ],
      "text/plain": [
       "                 Address    City State  Postal_Code  Agent_ID  TXN_ID\n",
       "9292  1405 Tolkien Drive  Conway    AR        72034       873    9293"
      ]
     },
     "execution_count": 347,
     "metadata": {},
     "output_type": "execute_result"
    }
   ],
   "source": [
    "df.loc[[9292],[\"Address\", \"City\", \"State\",\"Postal_Code\", \"Agent_ID\", \"TXN_ID\"]]"
   ]
  },
  {
   "cell_type": "code",
   "execution_count": 356,
   "metadata": {},
   "outputs": [
    {
     "name": "stderr",
     "output_type": "stream",
     "text": [
      "C:\\Users\\Dell\\AppData\\Local\\Temp\\ipykernel_6436\\3955372613.py:8: SettingWithCopyWarning: \n",
      "A value is trying to be set on a copy of a slice from a DataFrame\n",
      "\n",
      "See the caveats in the documentation: https://pandas.pydata.org/pandas-docs/stable/user_guide/indexing.html#returning-a-view-versus-a-copy\n",
      "  df[k][i] = df_emp[k][j]\n",
      "C:\\Users\\Dell\\AppData\\Local\\Temp\\ipykernel_6436\\3955372613.py:8: SettingWithCopyWarning: \n",
      "A value is trying to be set on a copy of a slice from a DataFrame\n",
      "\n",
      "See the caveats in the documentation: https://pandas.pydata.org/pandas-docs/stable/user_guide/indexing.html#returning-a-view-versus-a-copy\n",
      "  df[k][i] = df_emp[k][j]\n",
      "C:\\Users\\Dell\\AppData\\Local\\Temp\\ipykernel_6436\\3955372613.py:8: SettingWithCopyWarning: \n",
      "A value is trying to be set on a copy of a slice from a DataFrame\n",
      "\n",
      "See the caveats in the documentation: https://pandas.pydata.org/pandas-docs/stable/user_guide/indexing.html#returning-a-view-versus-a-copy\n",
      "  df[k][i] = df_emp[k][j]\n",
      "C:\\Users\\Dell\\AppData\\Local\\Temp\\ipykernel_6436\\3955372613.py:8: SettingWithCopyWarning: \n",
      "A value is trying to be set on a copy of a slice from a DataFrame\n",
      "\n",
      "See the caveats in the documentation: https://pandas.pydata.org/pandas-docs/stable/user_guide/indexing.html#returning-a-view-versus-a-copy\n",
      "  df[k][i] = df_emp[k][j]\n"
     ]
    }
   ],
   "source": [
    "# Adding employee data columns to df, which have common entries to customer data\n",
    "# There are common Address, City, State, Postal_Code data between employee and customer\n",
    "for k in [\"Emp_Address\", \"Emp_City\", \"Emp_State\", \"Emp_Postal_Code\"]:\n",
    "    df[k] = 0\n",
    "    for i in range(10000):\n",
    "        for j in range(1200):\n",
    "            if df[\"Agent_ID\"][i] == df_emp[\"Agent_ID\"][j]:\n",
    "                df[k][i] = df_emp[k][j]\n",
    "        continue"
   ]
  },
  {
   "cell_type": "code",
   "execution_count": 357,
   "metadata": {},
   "outputs": [
    {
     "data": {
      "text/html": [
       "<div>\n",
       "<style scoped>\n",
       "    .dataframe tbody tr th:only-of-type {\n",
       "        vertical-align: middle;\n",
       "    }\n",
       "\n",
       "    .dataframe tbody tr th {\n",
       "        vertical-align: top;\n",
       "    }\n",
       "\n",
       "    .dataframe thead th {\n",
       "        text-align: right;\n",
       "    }\n",
       "</style>\n",
       "<table border=\"1\" class=\"dataframe\">\n",
       "  <thead>\n",
       "    <tr style=\"text-align: right;\">\n",
       "      <th></th>\n",
       "      <th>TXN_ID</th>\n",
       "      <th>Customer_ID</th>\n",
       "      <th>Agent_ID</th>\n",
       "      <th>Vendor_ID</th>\n",
       "      <th>Policy_No</th>\n",
       "      <th>Age</th>\n",
       "      <th>State</th>\n",
       "      <th>Incident_State</th>\n",
       "      <th>City</th>\n",
       "      <th>Incident_City</th>\n",
       "      <th>...</th>\n",
       "      <th>Minor_Loss</th>\n",
       "      <th>Total_Loss</th>\n",
       "      <th>Contact_Ambulance</th>\n",
       "      <th>Contact_None</th>\n",
       "      <th>Contact_Other</th>\n",
       "      <th>Contact_Police</th>\n",
       "      <th>Emp_Address</th>\n",
       "      <th>Emp_City</th>\n",
       "      <th>Emp_State</th>\n",
       "      <th>Emp_Postal_Code</th>\n",
       "    </tr>\n",
       "  </thead>\n",
       "  <tbody>\n",
       "    <tr>\n",
       "      <th>0</th>\n",
       "      <td>1</td>\n",
       "      <td>3822</td>\n",
       "      <td>413</td>\n",
       "      <td>VNDR00556</td>\n",
       "      <td>8468</td>\n",
       "      <td>54</td>\n",
       "      <td>AZ</td>\n",
       "      <td>GA</td>\n",
       "      <td>Glendale</td>\n",
       "      <td>Savannah</td>\n",
       "      <td>...</td>\n",
       "      <td>0</td>\n",
       "      <td>0</td>\n",
       "      <td>0</td>\n",
       "      <td>0</td>\n",
       "      <td>0</td>\n",
       "      <td>1</td>\n",
       "      <td>584 Rural Hill Road</td>\n",
       "      <td>Nashville</td>\n",
       "      <td>TN</td>\n",
       "      <td>37217</td>\n",
       "    </tr>\n",
       "    <tr>\n",
       "      <th>1</th>\n",
       "      <td>2</td>\n",
       "      <td>8149</td>\n",
       "      <td>769</td>\n",
       "      <td>VNDR00592</td>\n",
       "      <td>9594</td>\n",
       "      <td>61</td>\n",
       "      <td>CO</td>\n",
       "      <td>AL</td>\n",
       "      <td>Arvada</td>\n",
       "      <td>Montgomery</td>\n",
       "      <td>...</td>\n",
       "      <td>0</td>\n",
       "      <td>1</td>\n",
       "      <td>1</td>\n",
       "      <td>0</td>\n",
       "      <td>0</td>\n",
       "      <td>0</td>\n",
       "      <td>6114 West Glenn Drive</td>\n",
       "      <td>Glendale</td>\n",
       "      <td>AZ</td>\n",
       "      <td>85301</td>\n",
       "    </tr>\n",
       "    <tr>\n",
       "      <th>2</th>\n",
       "      <td>3</td>\n",
       "      <td>3172</td>\n",
       "      <td>883</td>\n",
       "      <td>VNDR00031</td>\n",
       "      <td>7969</td>\n",
       "      <td>47</td>\n",
       "      <td>CA</td>\n",
       "      <td>CO</td>\n",
       "      <td>Vallejo</td>\n",
       "      <td>Grand Junction</td>\n",
       "      <td>...</td>\n",
       "      <td>0</td>\n",
       "      <td>1</td>\n",
       "      <td>0</td>\n",
       "      <td>0</td>\n",
       "      <td>0</td>\n",
       "      <td>1</td>\n",
       "      <td>2500 Snowdoun Chambers Road</td>\n",
       "      <td>Montgomery</td>\n",
       "      <td>AL</td>\n",
       "      <td>36105</td>\n",
       "    </tr>\n",
       "    <tr>\n",
       "      <th>3</th>\n",
       "      <td>4</td>\n",
       "      <td>7572</td>\n",
       "      <td>278</td>\n",
       "      <td>VNDR00075</td>\n",
       "      <td>9292</td>\n",
       "      <td>36</td>\n",
       "      <td>GA</td>\n",
       "      <td>GA</td>\n",
       "      <td>Thunderbolt</td>\n",
       "      <td>Savannah</td>\n",
       "      <td>...</td>\n",
       "      <td>1</td>\n",
       "      <td>0</td>\n",
       "      <td>1</td>\n",
       "      <td>0</td>\n",
       "      <td>0</td>\n",
       "      <td>0</td>\n",
       "      <td>313 Lone Oak Drive</td>\n",
       "      <td>Norman</td>\n",
       "      <td>OK</td>\n",
       "      <td>73071</td>\n",
       "    </tr>\n",
       "    <tr>\n",
       "      <th>4</th>\n",
       "      <td>5</td>\n",
       "      <td>8173</td>\n",
       "      <td>636</td>\n",
       "      <td>VNDR00472</td>\n",
       "      <td>204</td>\n",
       "      <td>51</td>\n",
       "      <td>CA</td>\n",
       "      <td>TN</td>\n",
       "      <td>Livermore</td>\n",
       "      <td>Nashville</td>\n",
       "      <td>...</td>\n",
       "      <td>0</td>\n",
       "      <td>0</td>\n",
       "      <td>0</td>\n",
       "      <td>0</td>\n",
       "      <td>0</td>\n",
       "      <td>1</td>\n",
       "      <td>120 Wells Avenue</td>\n",
       "      <td>Glen Burnie</td>\n",
       "      <td>MD</td>\n",
       "      <td>21061</td>\n",
       "    </tr>\n",
       "  </tbody>\n",
       "</table>\n",
       "<p>5 rows × 62 columns</p>\n",
       "</div>"
      ],
      "text/plain": [
       "   TXN_ID  Customer_ID  Agent_ID  Vendor_ID  Policy_No  Age State  \\\n",
       "0       1         3822       413  VNDR00556       8468   54    AZ   \n",
       "1       2         8149       769  VNDR00592       9594   61    CO   \n",
       "2       3         3172       883  VNDR00031       7969   47    CA   \n",
       "3       4         7572       278  VNDR00075       9292   36    GA   \n",
       "4       5         8173       636  VNDR00472        204   51    CA   \n",
       "\n",
       "  Incident_State         City   Incident_City  ...  Minor_Loss  Total_Loss  \\\n",
       "0             GA     Glendale        Savannah  ...           0           0   \n",
       "1             AL       Arvada      Montgomery  ...           0           1   \n",
       "2             CO      Vallejo  Grand Junction  ...           0           1   \n",
       "3             GA  Thunderbolt        Savannah  ...           1           0   \n",
       "4             TN    Livermore       Nashville  ...           0           0   \n",
       "\n",
       "   Contact_Ambulance  Contact_None  Contact_Other Contact_Police  \\\n",
       "0                  0             0              0              1   \n",
       "1                  1             0              0              0   \n",
       "2                  0             0              0              1   \n",
       "3                  1             0              0              0   \n",
       "4                  0             0              0              1   \n",
       "\n",
       "                   Emp_Address     Emp_City  Emp_State Emp_Postal_Code  \n",
       "0          584 Rural Hill Road    Nashville         TN           37217  \n",
       "1        6114 West Glenn Drive     Glendale         AZ           85301  \n",
       "2  2500 Snowdoun Chambers Road   Montgomery         AL           36105  \n",
       "3           313 Lone Oak Drive       Norman         OK           73071  \n",
       "4             120 Wells Avenue  Glen Burnie         MD           21061  \n",
       "\n",
       "[5 rows x 62 columns]"
      ]
     },
     "execution_count": 357,
     "metadata": {},
     "output_type": "execute_result"
    }
   ],
   "source": [
    "df.head()"
   ]
  },
  {
   "cell_type": "markdown",
   "metadata": {},
   "source": [
    "---"
   ]
  },
  {
   "cell_type": "code",
   "execution_count": 360,
   "metadata": {},
   "outputs": [
    {
     "data": {
      "text/plain": [
       "(600, 7)"
      ]
     },
     "execution_count": 360,
     "metadata": {},
     "output_type": "execute_result"
    }
   ],
   "source": [
    "# Importing vendor data\n",
    "df_vnd = pd.read_csv(\"https://raw.githubusercontent.com/waitasecant/Insurance-Claims-Fraud-/main/vendor_data.csv\")\n",
    "df_vnd.shape"
   ]
  },
  {
   "cell_type": "code",
   "execution_count": 349,
   "metadata": {},
   "outputs": [],
   "source": [
    "# Renaming columns appropriately\n",
    "df_vnd = df_vnd.rename(columns = {'VENDOR_ID':'Vendor_ID', 'VENDOR_NAME':'Vnd_Name',\n",
    "        'ADDRESS_LINE1':'Vnd_Address', 'ADDRESS_LINE2':'Vnd_Address2', 'CITY':'Vnd_City',\n",
    "       'STATE':'Vnd_State', 'POSTAL_CODE':'Vnd_Postal_Code'})\n",
    "df_vnd = df_vnd.drop(\"Vnd_Address2\", axis= 1)"
   ]
  },
  {
   "cell_type": "code",
   "execution_count": 350,
   "metadata": {},
   "outputs": [
    {
     "data": {
      "text/html": [
       "<div>\n",
       "<style scoped>\n",
       "    .dataframe tbody tr th:only-of-type {\n",
       "        vertical-align: middle;\n",
       "    }\n",
       "\n",
       "    .dataframe tbody tr th {\n",
       "        vertical-align: top;\n",
       "    }\n",
       "\n",
       "    .dataframe thead th {\n",
       "        text-align: right;\n",
       "    }\n",
       "</style>\n",
       "<table border=\"1\" class=\"dataframe\">\n",
       "  <thead>\n",
       "    <tr style=\"text-align: right;\">\n",
       "      <th></th>\n",
       "      <th>Vendor_ID</th>\n",
       "      <th>Vnd_Name</th>\n",
       "      <th>Vnd_Address</th>\n",
       "      <th>Vnd_City</th>\n",
       "      <th>Vnd_State</th>\n",
       "      <th>Vnd_Postal_Code</th>\n",
       "    </tr>\n",
       "  </thead>\n",
       "  <tbody>\n",
       "    <tr>\n",
       "      <th>0</th>\n",
       "      <td>VNDR00001</td>\n",
       "      <td>King, Proctor and Jones</td>\n",
       "      <td>2027 North Shannon Drive</td>\n",
       "      <td>Fayetteville</td>\n",
       "      <td>AR</td>\n",
       "      <td>72703</td>\n",
       "    </tr>\n",
       "    <tr>\n",
       "      <th>1</th>\n",
       "      <td>VNDR00002</td>\n",
       "      <td>Garcia Ltd</td>\n",
       "      <td>5701 East Shirley Lane</td>\n",
       "      <td>Montgomery</td>\n",
       "      <td>AL</td>\n",
       "      <td>36117</td>\n",
       "    </tr>\n",
       "    <tr>\n",
       "      <th>2</th>\n",
       "      <td>VNDR00003</td>\n",
       "      <td>Cherry LLC</td>\n",
       "      <td>1217 Cottondale Road</td>\n",
       "      <td>Montgomery</td>\n",
       "      <td>AL</td>\n",
       "      <td>36109</td>\n",
       "    </tr>\n",
       "    <tr>\n",
       "      <th>3</th>\n",
       "      <td>VNDR00004</td>\n",
       "      <td>Mays-Benson</td>\n",
       "      <td>227 West Montgomery Cross Road</td>\n",
       "      <td>Savannah</td>\n",
       "      <td>GA</td>\n",
       "      <td>31406</td>\n",
       "    </tr>\n",
       "    <tr>\n",
       "      <th>4</th>\n",
       "      <td>VNDR00005</td>\n",
       "      <td>Wilson PLC</td>\n",
       "      <td>23 North Hill Street</td>\n",
       "      <td>Nashville</td>\n",
       "      <td>TN</td>\n",
       "      <td>37210</td>\n",
       "    </tr>\n",
       "  </tbody>\n",
       "</table>\n",
       "</div>"
      ],
      "text/plain": [
       "   Vendor_ID                 Vnd_Name                     Vnd_Address  \\\n",
       "0  VNDR00001  King, Proctor and Jones        2027 North Shannon Drive   \n",
       "1  VNDR00002               Garcia Ltd          5701 East Shirley Lane   \n",
       "2  VNDR00003               Cherry LLC            1217 Cottondale Road   \n",
       "3  VNDR00004              Mays-Benson  227 West Montgomery Cross Road   \n",
       "4  VNDR00005               Wilson PLC            23 North Hill Street   \n",
       "\n",
       "       Vnd_City Vnd_State  Vnd_Postal_Code  \n",
       "0  Fayetteville        AR            72703  \n",
       "1    Montgomery        AL            36117  \n",
       "2    Montgomery        AL            36109  \n",
       "3      Savannah        GA            31406  \n",
       "4     Nashville        TN            37210  "
      ]
     },
     "execution_count": 350,
     "metadata": {},
     "output_type": "execute_result"
    }
   ],
   "source": [
    "df_vnd.head()"
   ]
  },
  {
   "cell_type": "code",
   "execution_count": 351,
   "metadata": {},
   "outputs": [
    {
     "data": {
      "text/plain": [
       "3245"
      ]
     },
     "execution_count": 351,
     "metadata": {},
     "output_type": "execute_result"
    }
   ],
   "source": [
    "df[\"Vendor_ID\"].isnull().sum()"
   ]
  },
  {
   "cell_type": "code",
   "execution_count": 352,
   "metadata": {},
   "outputs": [
    {
     "data": {
      "text/html": [
       "<div>\n",
       "<style scoped>\n",
       "    .dataframe tbody tr th:only-of-type {\n",
       "        vertical-align: middle;\n",
       "    }\n",
       "\n",
       "    .dataframe tbody tr th {\n",
       "        vertical-align: top;\n",
       "    }\n",
       "\n",
       "    .dataframe thead th {\n",
       "        text-align: right;\n",
       "    }\n",
       "</style>\n",
       "<table border=\"1\" class=\"dataframe\">\n",
       "  <thead>\n",
       "    <tr style=\"text-align: right;\">\n",
       "      <th></th>\n",
       "      <th>Vendor_ID</th>\n",
       "      <th>City</th>\n",
       "      <th>State</th>\n",
       "      <th>Address</th>\n",
       "      <th>Postal_Code</th>\n",
       "    </tr>\n",
       "  </thead>\n",
       "  <tbody>\n",
       "    <tr>\n",
       "      <th>22</th>\n",
       "      <td>VNDR00375</td>\n",
       "      <td>Panama City Beach</td>\n",
       "      <td>FL</td>\n",
       "      <td>17109 Guava Avenue</td>\n",
       "      <td>32413</td>\n",
       "    </tr>\n",
       "  </tbody>\n",
       "</table>\n",
       "</div>"
      ],
      "text/plain": [
       "    Vendor_ID               City State             Address  Postal_Code\n",
       "22  VNDR00375  Panama City Beach    FL  17109 Guava Avenue        32413"
      ]
     },
     "execution_count": 352,
     "metadata": {},
     "output_type": "execute_result"
    }
   ],
   "source": [
    "df.loc[[22],[\"Vendor_ID\", \"City\", \"State\", \"Address\", \"Postal_Code\"]]"
   ]
  },
  {
   "cell_type": "code",
   "execution_count": 353,
   "metadata": {},
   "outputs": [
    {
     "data": {
      "text/html": [
       "<div>\n",
       "<style scoped>\n",
       "    .dataframe tbody tr th:only-of-type {\n",
       "        vertical-align: middle;\n",
       "    }\n",
       "\n",
       "    .dataframe tbody tr th {\n",
       "        vertical-align: top;\n",
       "    }\n",
       "\n",
       "    .dataframe thead th {\n",
       "        text-align: right;\n",
       "    }\n",
       "</style>\n",
       "<table border=\"1\" class=\"dataframe\">\n",
       "  <thead>\n",
       "    <tr style=\"text-align: right;\">\n",
       "      <th></th>\n",
       "      <th>Vendor_ID</th>\n",
       "      <th>Vnd_City</th>\n",
       "      <th>Vnd_State</th>\n",
       "      <th>Vnd_Address</th>\n",
       "      <th>Vnd_Postal_Code</th>\n",
       "    </tr>\n",
       "  </thead>\n",
       "  <tbody>\n",
       "    <tr>\n",
       "      <th>374</th>\n",
       "      <td>VNDR00375</td>\n",
       "      <td>Panama City Beach</td>\n",
       "      <td>FL</td>\n",
       "      <td>14854 Bay View Circle</td>\n",
       "      <td>32413</td>\n",
       "    </tr>\n",
       "  </tbody>\n",
       "</table>\n",
       "</div>"
      ],
      "text/plain": [
       "     Vendor_ID           Vnd_City Vnd_State            Vnd_Address  \\\n",
       "374  VNDR00375  Panama City Beach        FL  14854 Bay View Circle   \n",
       "\n",
       "     Vnd_Postal_Code  \n",
       "374            32413  "
      ]
     },
     "execution_count": 353,
     "metadata": {},
     "output_type": "execute_result"
    }
   ],
   "source": [
    "df_vnd.loc[[374],[\"Vendor_ID\", \"Vnd_City\", \"Vnd_State\", \"Vnd_Address\", \"Vnd_Postal_Code\"]]"
   ]
  },
  {
   "cell_type": "code",
   "execution_count": 354,
   "metadata": {},
   "outputs": [],
   "source": [
    "# for i in range(10000):\n",
    "#     for j in range(600):\n",
    "#         if df[\"Vendor_ID\"][i] == df_vnd[\"Vendor_ID\"][j]:\n",
    "#             if df.loc[i,\"Address\"] == df_vnd.loc[j,\"Vnd_Address\"]:\n",
    "#                 print(i,j)\n",
    "#     continue"
   ]
  },
  {
   "cell_type": "code",
   "execution_count": 355,
   "metadata": {},
   "outputs": [
    {
     "data": {
      "text/html": [
       "<div>\n",
       "<style scoped>\n",
       "    .dataframe tbody tr th:only-of-type {\n",
       "        vertical-align: middle;\n",
       "    }\n",
       "\n",
       "    .dataframe tbody tr th {\n",
       "        vertical-align: top;\n",
       "    }\n",
       "\n",
       "    .dataframe thead th {\n",
       "        text-align: right;\n",
       "    }\n",
       "</style>\n",
       "<table border=\"1\" class=\"dataframe\">\n",
       "  <thead>\n",
       "    <tr style=\"text-align: right;\">\n",
       "      <th></th>\n",
       "      <th>TXN_ID</th>\n",
       "      <th>Agent_ID</th>\n",
       "      <th>Vendor_ID</th>\n",
       "    </tr>\n",
       "  </thead>\n",
       "  <tbody>\n",
       "    <tr>\n",
       "      <th>569</th>\n",
       "      <td>570</td>\n",
       "      <td>425</td>\n",
       "      <td>VNDR00451</td>\n",
       "    </tr>\n",
       "    <tr>\n",
       "      <th>1038</th>\n",
       "      <td>1039</td>\n",
       "      <td>549</td>\n",
       "      <td>VNDR00451</td>\n",
       "    </tr>\n",
       "    <tr>\n",
       "      <th>1531</th>\n",
       "      <td>1532</td>\n",
       "      <td>1011</td>\n",
       "      <td>VNDR00451</td>\n",
       "    </tr>\n",
       "    <tr>\n",
       "      <th>1622</th>\n",
       "      <td>1623</td>\n",
       "      <td>612</td>\n",
       "      <td>VNDR00451</td>\n",
       "    </tr>\n",
       "    <tr>\n",
       "      <th>2112</th>\n",
       "      <td>2113</td>\n",
       "      <td>239</td>\n",
       "      <td>VNDR00451</td>\n",
       "    </tr>\n",
       "    <tr>\n",
       "      <th>2449</th>\n",
       "      <td>2450</td>\n",
       "      <td>1109</td>\n",
       "      <td>VNDR00451</td>\n",
       "    </tr>\n",
       "    <tr>\n",
       "      <th>2559</th>\n",
       "      <td>2560</td>\n",
       "      <td>534</td>\n",
       "      <td>VNDR00451</td>\n",
       "    </tr>\n",
       "    <tr>\n",
       "      <th>2915</th>\n",
       "      <td>2916</td>\n",
       "      <td>497</td>\n",
       "      <td>VNDR00451</td>\n",
       "    </tr>\n",
       "    <tr>\n",
       "      <th>2928</th>\n",
       "      <td>2929</td>\n",
       "      <td>303</td>\n",
       "      <td>VNDR00451</td>\n",
       "    </tr>\n",
       "    <tr>\n",
       "      <th>3010</th>\n",
       "      <td>3011</td>\n",
       "      <td>324</td>\n",
       "      <td>VNDR00451</td>\n",
       "    </tr>\n",
       "    <tr>\n",
       "      <th>3167</th>\n",
       "      <td>3168</td>\n",
       "      <td>664</td>\n",
       "      <td>VNDR00451</td>\n",
       "    </tr>\n",
       "    <tr>\n",
       "      <th>3527</th>\n",
       "      <td>3528</td>\n",
       "      <td>901</td>\n",
       "      <td>VNDR00451</td>\n",
       "    </tr>\n",
       "    <tr>\n",
       "      <th>3717</th>\n",
       "      <td>3718</td>\n",
       "      <td>1008</td>\n",
       "      <td>VNDR00451</td>\n",
       "    </tr>\n",
       "    <tr>\n",
       "      <th>3795</th>\n",
       "      <td>3796</td>\n",
       "      <td>96</td>\n",
       "      <td>VNDR00451</td>\n",
       "    </tr>\n",
       "    <tr>\n",
       "      <th>4241</th>\n",
       "      <td>4242</td>\n",
       "      <td>691</td>\n",
       "      <td>VNDR00451</td>\n",
       "    </tr>\n",
       "    <tr>\n",
       "      <th>4258</th>\n",
       "      <td>4259</td>\n",
       "      <td>168</td>\n",
       "      <td>VNDR00451</td>\n",
       "    </tr>\n",
       "    <tr>\n",
       "      <th>5028</th>\n",
       "      <td>5029</td>\n",
       "      <td>1137</td>\n",
       "      <td>VNDR00451</td>\n",
       "    </tr>\n",
       "    <tr>\n",
       "      <th>5278</th>\n",
       "      <td>5279</td>\n",
       "      <td>103</td>\n",
       "      <td>VNDR00451</td>\n",
       "    </tr>\n",
       "    <tr>\n",
       "      <th>5553</th>\n",
       "      <td>5554</td>\n",
       "      <td>1042</td>\n",
       "      <td>VNDR00451</td>\n",
       "    </tr>\n",
       "    <tr>\n",
       "      <th>6007</th>\n",
       "      <td>6008</td>\n",
       "      <td>81</td>\n",
       "      <td>VNDR00451</td>\n",
       "    </tr>\n",
       "    <tr>\n",
       "      <th>6094</th>\n",
       "      <td>6095</td>\n",
       "      <td>723</td>\n",
       "      <td>VNDR00451</td>\n",
       "    </tr>\n",
       "    <tr>\n",
       "      <th>6106</th>\n",
       "      <td>6107</td>\n",
       "      <td>1023</td>\n",
       "      <td>VNDR00451</td>\n",
       "    </tr>\n",
       "    <tr>\n",
       "      <th>6559</th>\n",
       "      <td>6560</td>\n",
       "      <td>514</td>\n",
       "      <td>VNDR00451</td>\n",
       "    </tr>\n",
       "    <tr>\n",
       "      <th>7149</th>\n",
       "      <td>7150</td>\n",
       "      <td>39</td>\n",
       "      <td>VNDR00451</td>\n",
       "    </tr>\n",
       "    <tr>\n",
       "      <th>7773</th>\n",
       "      <td>7774</td>\n",
       "      <td>9</td>\n",
       "      <td>VNDR00451</td>\n",
       "    </tr>\n",
       "    <tr>\n",
       "      <th>8280</th>\n",
       "      <td>8281</td>\n",
       "      <td>592</td>\n",
       "      <td>VNDR00451</td>\n",
       "    </tr>\n",
       "    <tr>\n",
       "      <th>8381</th>\n",
       "      <td>8382</td>\n",
       "      <td>782</td>\n",
       "      <td>VNDR00451</td>\n",
       "    </tr>\n",
       "    <tr>\n",
       "      <th>8716</th>\n",
       "      <td>8717</td>\n",
       "      <td>171</td>\n",
       "      <td>VNDR00451</td>\n",
       "    </tr>\n",
       "  </tbody>\n",
       "</table>\n",
       "</div>"
      ],
      "text/plain": [
       "      TXN_ID  Agent_ID  Vendor_ID\n",
       "569      570       425  VNDR00451\n",
       "1038    1039       549  VNDR00451\n",
       "1531    1532      1011  VNDR00451\n",
       "1622    1623       612  VNDR00451\n",
       "2112    2113       239  VNDR00451\n",
       "2449    2450      1109  VNDR00451\n",
       "2559    2560       534  VNDR00451\n",
       "2915    2916       497  VNDR00451\n",
       "2928    2929       303  VNDR00451\n",
       "3010    3011       324  VNDR00451\n",
       "3167    3168       664  VNDR00451\n",
       "3527    3528       901  VNDR00451\n",
       "3717    3718      1008  VNDR00451\n",
       "3795    3796        96  VNDR00451\n",
       "4241    4242       691  VNDR00451\n",
       "4258    4259       168  VNDR00451\n",
       "5028    5029      1137  VNDR00451\n",
       "5278    5279       103  VNDR00451\n",
       "5553    5554      1042  VNDR00451\n",
       "6007    6008        81  VNDR00451\n",
       "6094    6095       723  VNDR00451\n",
       "6106    6107      1023  VNDR00451\n",
       "6559    6560       514  VNDR00451\n",
       "7149    7150        39  VNDR00451\n",
       "7773    7774         9  VNDR00451\n",
       "8280    8281       592  VNDR00451\n",
       "8381    8382       782  VNDR00451\n",
       "8716    8717       171  VNDR00451"
      ]
     },
     "execution_count": 355,
     "metadata": {},
     "output_type": "execute_result"
    }
   ],
   "source": [
    "df.loc[:,[\"TXN_ID\", \"Agent_ID\", \"Vendor_ID\"]][df[\"Vendor_ID\"] == \"VNDR00451\"]"
   ]
  }
 ],
 "metadata": {
  "kernelspec": {
   "display_name": "Python 3.9.5 64-bit",
   "language": "python",
   "name": "python3"
  },
  "language_info": {
   "codemirror_mode": {
    "name": "ipython",
    "version": 3
   },
   "file_extension": ".py",
   "mimetype": "text/x-python",
   "name": "python",
   "nbconvert_exporter": "python",
   "pygments_lexer": "ipython3",
   "version": "3.9.5"
  },
  "orig_nbformat": 4,
  "vscode": {
   "interpreter": {
    "hash": "bf4fbbcfb44b62809ee9ef976aff62d8f85ac4ea82e40788fda9594addf376e6"
   }
  }
 },
 "nbformat": 4,
 "nbformat_minor": 2
}
